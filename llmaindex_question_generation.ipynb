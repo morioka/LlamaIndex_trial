{
  "nbformat": 4,
  "nbformat_minor": 0,
  "metadata": {
    "colab": {
      "provenance": []
    },
    "kernelspec": {
      "name": "python3",
      "display_name": "Python 3"
    },
    "language_info": {
      "name": "python"
    }
  },
  "cells": [
    {
      "cell_type": "markdown",
      "source": [
        "# LlamaIndexを用いて、クイズ生成を考える\n",
        "\n",
        "- インデックスを作成する\n",
        "- BeautifulSoupをつかって記事本文だけをインデックス\n",
        "- 解答候補を抽出する\n",
        "- 関連情報を得る\n",
        "- 質問生成：四択問題\n",
        "- 検証: 質問＋各選択肢が成立するか\n",
        "- 導入文の生成\n",
        "- 導入文と質問・解答をペアにしてすわりがよいかを評価\n",
        "- クイズの難しさの評価\n",
        "- クイズとしての面白さの評価\n",
        "\n",
        "\n",
        "\n",
        "\n",
        "\n"
      ],
      "metadata": {
        "id": "5r0yvbaH6Gz5"
      }
    },
    {
      "cell_type": "markdown",
      "source": [
        "- [ChatGPTで独自データを利用できるLlamaIndexはどんな仕組みで動いているのか？調べてみました | DevelopersIO](https://dev.classmethod.jp/articles/llamaindex-overview/)"
      ],
      "metadata": {
        "id": "PB5upn7jBlqY"
      }
    },
    {
      "cell_type": "markdown",
      "source": [
        "## 対象の記事"
      ],
      "metadata": {
        "id": "jQec7obT9bTY"
      }
    },
    {
      "cell_type": "code",
      "source": [
        "# この例では、この記事を使います\n",
        "\n",
        "article_urls=['https://nordot.app/1014472568104288256']  # 細野勇策が通算16アンダー首位　東建男子ゴルフ第2日 ｜ 共同通信 (2023/03/31)"
      ],
      "metadata": {
        "id": "3BlpLz-n9cAM"
      },
      "execution_count": 304,
      "outputs": []
    },
    {
      "cell_type": "code",
      "source": [
        "# nordotから一覧\n",
        "\n",
        "from urllib import request  # urllib.requestモジュールをインポート\n",
        "import json\n",
        "\n",
        "url = 'https://nordot.app/-/units/39166665832988672/list?offset=10&limit=10'\n",
        "user_agent = 'Mozilla/5.0 (Windows NT 6.1; Win64; x64)'   # User-Agentを設定しないと応答を返さない\n",
        "headers = {'User-Agent': user_agent}\n",
        "\n",
        "req = request.Request(url, headers=headers)\n",
        "with request.urlopen(req) as response:\n",
        "   content = json.loads(response.read().decode('utf8'))\n"
      ],
      "metadata": {
        "colab": {
          "base_uri": "https://localhost:8080/",
          "height": 0
        },
        "id": "OoUdtxsAD0PX",
        "outputId": "1b44207b-178f-4af9-b8dd-a148f254cca0"
      },
      "execution_count": 302,
      "outputs": [
        {
          "output_type": "execute_result",
          "data": {
            "text/plain": [
              "[('NY円、132円台後半', 'https://nordot.app/1014521617494933504'),\n",
              " ('トランプ氏、4日にも出頭', 'https://nordot.app/1014495251956924416'),\n",
              " ('不正閲覧、改善命令を勧告', 'https://nordot.app/1014499439336554496'),\n",
              " ('西2―3オ（31日）', 'https://nordot.app/1014513667462299648'),\n",
              " ('WBC優勝の熱気つなげる', 'https://nordot.app/1014518304881295360'),\n",
              " ('前大統領起訴「ノーコメント」とバイデン氏', 'https://nordot.app/1014518711919214592'),\n",
              " ('厚労省、「エホバ」と面会し要請', 'https://nordot.app/1014499176452636672'),\n",
              " ('神6―3D（31日）', 'https://nordot.app/1014518178649620480'),\n",
              " ('米国との戦略核の均衡保つとロ外交政策概念', 'https://nordot.app/1014517638885523456'),\n",
              " ('NY円、132円82～92銭', 'https://nordot.app/1014517200072998912')]"
            ]
          },
          "metadata": {},
          "execution_count": 302
        }
      ]
    },
    {
      "cell_type": "code",
      "source": [
        "[\n",
        "    (p[\"title\"], p[\"published_at\"], f'https://nordot.app/{p[\"id\"]}') for p in content['posts']\n",
        "]\n"
      ],
      "metadata": {
        "colab": {
          "base_uri": "https://localhost:8080/",
          "height": 0
        },
        "id": "qH4HA1ujHBAd",
        "outputId": "36715413-9312-4c2c-bf0d-284ea13bdec0"
      },
      "execution_count": 303,
      "outputs": [
        {
          "output_type": "execute_result",
          "data": {
            "text/plain": [
              "[('NY円、132円台後半',\n",
              "  '2023-03-31T13:06:07+00:00',\n",
              "  'https://nordot.app/1014521617494933504'),\n",
              " ('トランプ氏、4日にも出頭',\n",
              "  '2023-03-31T13:05:53+00:00',\n",
              "  'https://nordot.app/1014495251956924416'),\n",
              " ('不正閲覧、改善命令を勧告',\n",
              "  '2023-03-31T12:58:56+00:00',\n",
              "  'https://nordot.app/1014499439336554496'),\n",
              " ('西2―3オ（31日）',\n",
              "  '2023-03-31T12:56:03+00:00',\n",
              "  'https://nordot.app/1014513667462299648'),\n",
              " ('WBC優勝の熱気つなげる',\n",
              "  '2023-03-31T12:55:41+00:00',\n",
              "  'https://nordot.app/1014518304881295360'),\n",
              " ('前大統領起訴「ノーコメント」とバイデン氏',\n",
              "  '2023-03-31T12:54:48+00:00',\n",
              "  'https://nordot.app/1014518711919214592'),\n",
              " ('厚労省、「エホバ」と面会し要請',\n",
              "  '2023-03-31T12:54:37+00:00',\n",
              "  'https://nordot.app/1014499176452636672'),\n",
              " ('神6―3D（31日）',\n",
              "  '2023-03-31T12:54:24+00:00',\n",
              "  'https://nordot.app/1014518178649620480'),\n",
              " ('米国との戦略核の均衡保つとロ外交政策概念',\n",
              "  '2023-03-31T12:50:41+00:00',\n",
              "  'https://nordot.app/1014517638885523456'),\n",
              " ('NY円、132円82～92銭',\n",
              "  '2023-03-31T12:48:11+00:00',\n",
              "  'https://nordot.app/1014517200072998912')]"
            ]
          },
          "metadata": {},
          "execution_count": 303
        }
      ]
    },
    {
      "cell_type": "markdown",
      "source": [
        "## インデックスを作成する\n"
      ],
      "metadata": {
        "id": "RPcGsI7c5-tf"
      }
    },
    {
      "cell_type": "code",
      "source": [
        "!pip install -qU llama-index wikipedia langchain html2text"
      ],
      "metadata": {
        "id": "OOgrHoo2UM6l"
      },
      "execution_count": 239,
      "outputs": []
    },
    {
      "cell_type": "code",
      "source": [
        "!pip install -qU gpt-index"
      ],
      "metadata": {
        "id": "XIhxRAOql0PL"
      },
      "execution_count": 240,
      "outputs": []
    },
    {
      "cell_type": "code",
      "execution_count": 241,
      "metadata": {
        "id": "iT3VVbxLULB-"
      },
      "outputs": [],
      "source": [
        "import os\n",
        "os.environ[\"OPENAI_API_KEY\"] = 'YOUR_OPENAI_API_KEY'\n",
        "\n",
        "\n",
        "from llama_index import GPTSimpleVectorIndex, SimpleDirectoryReader\n",
        "#documents = SimpleDirectoryReader('data').load_data()\n",
        "#index = GPTSimpleVectorIndex.from_documents(documents)"
      ]
    },
    {
      "cell_type": "code",
      "source": [
        "from llama_index import GPTSimpleVectorIndex, SimpleWebPageReader\n",
        "\n",
        "documents = SimpleWebPageReader().load_data(article_urls)\n",
        "index = GPTSimpleVectorIndex.from_documents(documents)"
      ],
      "metadata": {
        "id": "6nCT507ZUfkA"
      },
      "execution_count": 242,
      "outputs": []
    },
    {
      "cell_type": "code",
      "source": [
        "index.query(\"<question_text>?\")"
      ],
      "metadata": {
        "colab": {
          "base_uri": "https://localhost:8080/",
          "height": 0
        },
        "id": "JaNf2fRVU6dd",
        "outputId": "c0601787-9dcf-44f7-912f-d9271293081e"
      },
      "execution_count": 243,
      "outputs": [
        {
          "output_type": "execute_result",
          "data": {
            "text/plain": [
              "Response(response='\\nThe answer to the question is not provided in the context information.', source_nodes=[NodeWithScore(node=Node(text='   <path class=\"cls-1\" d=\"M170.46,63.44A22.18,22.18,0,0,1,162,61.77a20.89,20.89,0,0,1-7.25-5,24.69,24.69,0,0,1-5.06-8.08,29.6,29.6,0,0,1-1.91-11v-.18a29.6,29.6,0,0,1,1.91-11,25.27,25.27,0,0,1,5-8.08,20.47,20.47,0,0,1,7.2-5,22.3,22.3,0,0,1,8.55-1.67A17.68,17.68,0,0,1,179.79,14a24.73,24.73,0,0,1,6.18,5.2v-18A1.25,1.25,0,0,1,187.21,0h11.64a1.25,1.25,0,0,1,1.24,1.24v60a1.25,1.25,0,0,1-1.24,1.24H187.21A1.25,1.25,0,0,1,186,61.27V55.36a22.2,22.2,0,0,1-6.27,5.8A17.24,17.24,0,0,1,170.46,63.44Zm3.62-12a11.36,11.36,0,0,0,4.69-1,11.22,11.22,0,0,0,3.81-2.78,14,14,0,0,0,2.6-4.37,15.64,15.64,0,0,0,1-5.62v-.18a15.6,15.6,0,0,0-1-5.62,13.89,13.89,0,0,0-2.6-4.37,11.12,11.12,0,0,0-3.81-2.79,11.82,11.82,0,0,0-9.38,0,11.56,11.56,0,0,0-3.85,2.79,13.47,13.47,0,0,0-2.65,4.32,15.53,15.53,0,0,0-1,5.67v.18a15.64,15.64,0,0,0,1,5.62,13.39,13.39,0,0,0,2.65,4.37,11.67,11.67,0,0,0,3.85,2.78A11.36,11.36,0,0,0,174.08,51.46Z\"/>\\n    <path class=\"cls-1\" d=\"M232.68,63.63a28.16,28.16,0,0,1-10.68-2,26.18,26.18,0,0,1-8.5-5.48A25.51,25.51,0,0,1,207.88,48a24.94,24.94,0,0,1-2-10.07v-.19a25,25,0,0,1,2-10.08,25.73,25.73,0,0,1,5.67-8.22,26.8,26.8,0,0,1,8.54-5.57,29.58,29.58,0,0,1,21.46-.05,26.24,26.24,0,0,1,8.5,5.48,25.62,25.62,0,0,1,5.62,8.18,25,25,0,0,1,2,10.08v.18a25,25,0,0,1-2,10.08A25.51,25.51,0,0,1,252,56a26.8,26.8,0,0,1-8.54,5.57A27.9,27.9,0,0,1,232.68,63.63Zm.19-12.17a13.12,13.12,0,0,0,5.43-1.07,11.91,11.91,0,0,0,4-2.93,12.72,12.72,0,0,0,2.56-4.31,15.47,15.47,0,0,0,.88-5.25v-.19a14.72,14.72,0,0,0-.93-5.25,13.33,13.33,0,0,0-2.69-4.36,13.14,13.14,0,0,0-4.18-3,12.55,12.55,0,0,0-5.3-1.12A13.12,13.12,0,0,0,227.25,25a12,12,0,0,0-4,2.93,12.86,12.86,0,0,0-2.56,4.32,15.64,15.64,0,0,0-.88,5.25v.18A14.72,14.72,0,0,0,220.7,43a13.3,13.3,0,0,0,6.83,7.38A12.3,12.3,0,0,0,232.87,51.46Z\"/>\\n    <path class=\"cls-1\" d=\"M264.64,12.73V1.24A1.25,1.25,0,0,1,265.89,0h11.63a1.25,1.25,0,0,1,1.24,1.24V12.73h10.46A1.23,1.23,0,0,1,290.46,14v9.59a1.24,1.24,0,0,1-1.24,1.24H278.76V46.15q0,4.85,4.55,4.84a13.85,13.85,0,0,0,5.27-1,1.24,1.24,0,0,1,1.7,1.15v8.62a1.21,1.21,0,0,1-.64,1.08,21.78,21.78,0,0,1-4.28,1.74,22.51,22.51,0,0,1-6.23.79,23,23,0,0,1-5.9-.7,10.45,10.45,0,0,1-4.55-2.46,11.82,11.82,0,0,1-3-4.6,20.71,20.71,0,0,1-1.07-7.2V12.73Z\"/>\\n  </g>\\n</svg>\\n</span>\\n            </a>\\n        </div>\\n      </bdi>\\n    </div>\\n  </div>\\n</footer>\\n\\n          </div>\\n        </div>\\n      </div>\\n    </div>\\n  </div>\\n</div>\\n\\n      </div>\\n    </div>\\n    \\n  \\n</div>\\n\\n\\n  <div id=\"no-hindsight-ip-unit\" style=\"display:none;\"></div>\\n\\n\\n<script src=\"https://ajax.googleapis.com/ajax/libs/jquery/1.11.3/jquery.min.js\"></script>\\n<script src=\"/images/newsnor/kiji/js/pc/common.js?4560510833\"></script>\\n<script defer>\\n(function(i,s,o,g,r,a,m){i[\\'GoogleAnalyticsObject\\']=r;i[r]=i[r]||function(){\\n(i[r].q=i[r].q||[]).push(arguments)},i[r].l=1*new Date();a=s.createElement(o),\\nm=s.getElementsByTagName(o)[0];a.async=1;a.src=g;m.parentNode.insertBefore(a,m)\\n})(window,document,\\'script\\',\\'//www.google-analytics.com/analytics.js\\',\\'ga\\');\\n$.callGa = function() {\\n  \\n  ga(\\'create\\', \\'UA-85365015-2\\', \\'auto\\', \\'ch\\');\\n  ga(\\'ch.send\\', \\'pageview\\');\\n  \\n  ga(\\'create\\', \\'UA-72949515-1\\', \\'auto\\');\\n  ga(\\'send\\', \\'pageview\\');\\n}\\n</script>\\n<script src=\"https://cdnjs.cloudflare.com/ajax/libs/underscore.js/1.8.3/underscore-min.js\"></script>\\n\\n\\n<script src=\"/images/newsnor/kiji/js/pc/curatedBy.js?4560510833\"></script>\\n<script src=\"/images/newsnor/kiji/js/pc/ready.js?4560510833\"></script>\\n<script src=\"/images/newsnor/kiji/js/pc/plugin.js?4560510833\"></script>\\n<script src=\"https://log.nordot.jp/js/beacon-1.1.0.js?2020083101\"></script>\\n\\n<script type=\"text/javascript\">\\n\\n  nor.pageviewURL = \"https://log.nordot.jp/pageview\";\\n\\n\\n  nor.eventURL = \"https://log.nordot.jp/event\";\\n\\n\\nnor.setPageData({\\n  pagetype: \\'detail\\',\\n  conttype: \\'post\\',\\n  uiid: \\'kijipc\\',\\n  postid: \"1014472568104288256\",\\n  conturl: \"aHR0cHM6Ly9ub3Jkb3QuYXBwLzEwMTQ0NzI1NjgxMDQyODgyNTY=\",\\n  contdata: {\\n    title: \"細野勇策が通算16アンダー首位\",\\n    numimg:  1 ,\\n    cvrimg: 0,\\n    bodylen:  287 ,\\n    pubdate: \"1680256652\",\\n    chname: \"共同通信\",\\n    \\n    chlang: \"ja-JP\",\\n    labels: [\"スポーツ\",\"ゴルフ\"],\\n    gcats: [\"/Sports\"],\\n    gcatscores: [0.7],\\n    icats: [\"IAB17\"],\\n    onlyjp: 1,\\n    numrcmd:  5 ,\\n    pubcntry: \"jp\"\\n  },\\n  chunitid: \"39166665832988672\",\\n  testids: \"pc-ad-right_ja,ad-vidazoo_off,recommend_on,open-ch-facebook_off,open-ch-twitter_on,open-ch-instagram_off,open-ch-line_on,open-ch-youtube_on,series_off,topic_on,author_off,tag_on,related-post_off,curator_off,curator-detail_off,also-curate_off,share-whatsapp_off,share-hatebu_on,share-line_off,header-ch-image_on,header-open-ch-website_on,copyright-owner_on,twitter-timeline_on\",\\n  delete_cookie: $.isUnaccepted(),\\n  readerdata: {\\n    init_gdpr: $.gdprLogValue()\\n  }\\n  \\n  \\n});\\n\\njQuery(function($) {\\n  nor.pageview();\\n  $.fn.initPlugin();\\n  $.fn.startWatchReaded(nor.event);\\n  $.fn.startWatchDuration(nor.event);\\n  $.fn.startWatchLoggedModules();\\n  $.fn.startWatchLoggedModulesViewable();\\n  $.fn.sendVisibilityPageviewIfNeeded();\\n  document.addEventListener(\\'visibilitychange\\', $.fn.sendVisibilityPageviewIfNeeded);\\n});\\n</script>\\n\\n\\n<script>\\njQuery(function($) {\\n  nor.isSetPopInClicked = false;\\n  nor.countPopInClicks = 0;\\n  $(\\'#_popIn_recommend_new\\').on(\\'DOMNodeInserted\\',\\n    function(){\\n      if (!nor.isSetPopInClicked) {\\n        nor.isSetPopInClicked = true;\\n        nor.event({\\n          eventid: \\'popin_inserted\\',\\n        });\\n        $(\\'._popIn_recommend_article\\').on(\\'click contextmenu\\', function(){\\n          let isAd = false;\\n          if ($(this).hasClass(\\'_popIn_recommend_article_ad\\')) {\\n            isAd = true;\\n          }\\n          nor.countPopInClicks++;\\n          nor.event({\\n            eventid: \\'popin_clicked\\',\\n            eventdata: {isad: isAd, cntclicks:nor.countPopInClicks}\\n          });\\n        })\\n      }\\n    }\\n  );\\n});\\n</script>\\n\\n\\n<script>\\njQuery(function($) {\\n  nor.countRevContentClicks = 0;\\n  nor.countRevContentLoadMore = 0;\\n  $(\\'#rc-widget-882cde\\').on(\\'DOMNodeInserted\\',\\n    function(){\\n      $(\\'.rc-item\\').off(\\'click\\');\\n      $(\\'.rc-item\\').on(\\'click\\', function(){\\n        let isAd = false;\\n        if ($(this).hasClass(\\'rc-sponsored\\')) {\\n          isAd = true;\\n        }\\n        nor.countRevContentClicks++;\\n        nor.event({\\n          eventid: \\'revcontent_clicked\\',\\n          eventdata: {isad: isAd, cntclicks:nor.countRevContentClicks}\\n        });\\n      });\\n      $(\\'.rc-btn\\').off(\\'click\\');\\n      $(\\'.rc-btn\\').on(\\'click\\', function(){\\n        nor.countRevContentLoadMore++;\\n        nor.event({\\n          eventid: \\'revcontent_loadmore\\',\\n          eventdata: {cntloadmore:nor.countRevContentLoadMore}\\n        });\\n      });\\n    }\\n ', doc_id='e6febbd1-f3ba-4709-abd1-af1a7ebbcedf', embedding=None, doc_hash='37e850d960cd560c121f795603b9a4e0963b40512dcd95ffc77102ad1efd07e3', extra_info=None, node_info={'start': 34004, 'end': 40608}, relationships={<DocumentRelationship.SOURCE: '1'>: '32ffd1a9-4a1e-4724-a85d-a5be54961122'}), score=0.7343617297332834)], extra_info=None)"
            ]
          },
          "metadata": {},
          "execution_count": 243
        }
      ]
    },
    {
      "cell_type": "code",
      "source": [
        "index.query(\"次の問いに日本語で答えてください。単語で出力してください。\\n\\n誰が首位?\").response.strip()"
      ],
      "metadata": {
        "colab": {
          "base_uri": "https://localhost:8080/",
          "height": 36
        },
        "id": "WHAIlQSNVwLw",
        "outputId": "bbbfa59c-e468-4550-9cf7-62254ff1be25"
      },
      "execution_count": 244,
      "outputs": [
        {
          "output_type": "execute_result",
          "data": {
            "text/plain": [
              "'細野勇策が共同通信の首位にいる'"
            ],
            "application/vnd.google.colaboratory.intrinsic+json": {
              "type": "string"
            }
          },
          "metadata": {},
          "execution_count": 244
        }
      ]
    },
    {
      "cell_type": "code",
      "source": [
        "index.query(\"要約してください\").response.strip()"
      ],
      "metadata": {
        "colab": {
          "base_uri": "https://localhost:8080/",
          "height": 54
        },
        "id": "YA05_RtvV0Nz",
        "outputId": "fe50eceb-7d4b-426c-ab8b-b6998358c3ef"
      },
      "execution_count": 245,
      "outputs": [
        {
          "output_type": "execute_result",
          "data": {
            "text/plain": [
              "'このウェブページは、20歳の細野勇策が東建ホームメイト・カップ第2日で16アンダー首位を獲得したことを報じる共同通信の記事であり、ヘッダーに共同通信のロゴ画像が表示されています。また、Twitterで共同通信をフォローすることもできます。'"
            ],
            "application/vnd.google.colaboratory.intrinsic+json": {
              "type": "string"
            }
          },
          "metadata": {},
          "execution_count": 245
        }
      ]
    },
    {
      "cell_type": "markdown",
      "source": [
        "## BeautifulSoupをつかって記事本文だけをインデックス\n",
        "\n",
        "こちらの方がhtmlタグなどのノイズが少ない。きれいな情報を取得でき、それを使った結果もよさそう。"
      ],
      "metadata": {
        "id": "TRtGqiUz8t6M"
      }
    },
    {
      "cell_type": "code",
      "source": [
        "!pip install -qU bs4"
      ],
      "metadata": {
        "id": "qs4m8uCY7vTp"
      },
      "execution_count": 246,
      "outputs": []
    },
    {
      "cell_type": "code",
      "source": [
        "from urllib import request\n",
        "from bs4 import BeautifulSoup\n",
        "\n",
        "url = 'https://nordot.app/1014495251956924416'\n",
        "\n",
        "url = article_urls[0]\n",
        "response = request.urlopen(url)\n",
        "soup = BeautifulSoup(response)\n",
        "response.close()"
      ],
      "metadata": {
        "id": "WRuCNerG7muH"
      },
      "execution_count": 247,
      "outputs": []
    },
    {
      "cell_type": "code",
      "source": [
        "text = soup.find('div', class_='main__articleBody').text.strip().replace('\\u3000', ' ')\n",
        "text"
      ],
      "metadata": {
        "colab": {
          "base_uri": "https://localhost:8080/",
          "height": 90
        },
        "id": "rl2LAk9S7uxp",
        "outputId": "b6839c34-fb37-4d66-89e4-7a198df256cc"
      },
      "execution_count": 248,
      "outputs": [
        {
          "output_type": "execute_result",
          "data": {
            "text/plain": [
              "'第2日、12番でアプローチショットを放つ細野勇策。通算16アンダーで首位＝東建多度CC名古屋 東建ホームメイト・カップ第2日（31日・三重県東建多度CC名古屋＝7062ヤード、パー71）20歳でツアー未勝利の細野勇策が3位から11バーディー、1ボギーの61をマークし、通算16アンダー、126で首位に立った。61は同コース開催での大会最少スコアを1打更新。4打差で前日首位の今平周吾が続いた。\\n 通算10アンダーの3位に64で回った田中裕基とマイケル・ヘンドリー（ニュージーランド）がつけ、さらに1打差で石川遼らが並んだ。金谷拓実は首位から71と伸ばせず7アンダーの12位に後退。昨年優勝の香妻陣一朗は3アンダーの50位。2アンダーまでの79人が決勝ラウンドに進んだ。'"
            ],
            "application/vnd.google.colaboratory.intrinsic+json": {
              "type": "string"
            }
          },
          "metadata": {},
          "execution_count": 248
        }
      ]
    },
    {
      "cell_type": "code",
      "source": [
        "from gpt_index import StringIterableReader, GPTTreeIndex\n",
        "\n",
        "documents = StringIterableReader().load_data([text])\n",
        "index = GPTSimpleVectorIndex.from_documents(documents)"
      ],
      "metadata": {
        "id": "MVt8yQnK8dyz"
      },
      "execution_count": 249,
      "outputs": []
    },
    {
      "cell_type": "code",
      "source": [
        "index.query(\"<question_text>?\")"
      ],
      "metadata": {
        "colab": {
          "base_uri": "https://localhost:8080/",
          "height": 0
        },
        "id": "7mGvhGZn_hr0",
        "outputId": "3cc8a1b6-2403-4ccb-89a0-a668612f5c5f"
      },
      "execution_count": 280,
      "outputs": [
        {
          "output_type": "execute_result",
          "data": {
            "text/plain": [
              "Response(response='\\n細野勇策は、第2日の試合で通算16アンダーで首位に立った。', source_nodes=[NodeWithScore(node=Node(text='第2日、12番でアプローチショットを放つ細野勇策。通算16アンダーで首位＝東建多度CC名古屋 東建ホームメイト・カップ第2日（31日・三重県東建多度CC名古屋＝7062ヤード、パー71）20歳でツアー未勝利の細野勇策が3位から11バーディー、1ボギーの61をマークし、通算16アンダー、126で首位に立った。61は同コース開催での大会最少スコアを1打更新。4打差で前日首位の今平周吾が続いた。\\n 通算10アンダーの3位に64で回った田中裕基とマイケル・ヘンドリー（ニュージーランド）がつけ、さらに1打差で石川遼らが並んだ。金谷拓実は首位から71と伸ばせず7アンダーの12位に後退。昨年優勝の香妻陣一朗は3アンダーの50位。2アンダーまでの79人が決勝ラウンドに進んだ。', doc_id='948fd1d1-782b-4593-bfa5-bdd056e6bec9', embedding=None, doc_hash='e28622816e464dca564852727a35e9fd913f41db896c4d57d83e345f1db0d079', extra_info=None, node_info={'start': 0, 'end': 334}, relationships={<DocumentRelationship.SOURCE: '1'>: '57cbe2c9-a194-478c-817b-a27fb962a1b1'}), score=0.6840508248962084)], extra_info=None)"
            ]
          },
          "metadata": {},
          "execution_count": 280
        }
      ]
    },
    {
      "cell_type": "code",
      "source": [
        "index.query(\"次の問いに日本語で答えてください。単語で出力してください。\\n\\n誰が首位ですか?\").response.strip()"
      ],
      "metadata": {
        "colab": {
          "base_uri": "https://localhost:8080/",
          "height": 36
        },
        "id": "ArcLpdEh7hhk",
        "outputId": "2ac79fb6-c84e-47e7-ffff-5623fc8f84d8"
      },
      "execution_count": 273,
      "outputs": [
        {
          "output_type": "execute_result",
          "data": {
            "text/plain": [
              "'細野勇策'"
            ],
            "application/vnd.google.colaboratory.intrinsic+json": {
              "type": "string"
            }
          },
          "metadata": {},
          "execution_count": 273
        }
      ]
    },
    {
      "cell_type": "code",
      "source": [
        "index.query(\"要約してください\").response.strip()"
      ],
      "metadata": {
        "colab": {
          "base_uri": "https://localhost:8080/",
          "height": 54
        },
        "id": "wPFWsSu_9E57",
        "outputId": "0d0b85ba-2cca-4680-d7c1-074fdde6b164"
      },
      "execution_count": 251,
      "outputs": [
        {
          "output_type": "execute_result",
          "data": {
            "text/plain": [
              "'細野勇策が3位から11バーディー、1ボギーの61で通算16アンダー、126で首位に立ち、大会最少スコアを1打更新した。田中裕基とマイケル・ヘンドリーが3位につけ、石川遼らが1打差で並んだ。金谷拓実は7アンダーの12位に後退し、香妻陣一朗は3アンダーの50位であった。79人が2アンダーまでで決勝ラウンドに進んだ。'"
            ],
            "application/vnd.google.colaboratory.intrinsic+json": {
              "type": "string"
            }
          },
          "metadata": {},
          "execution_count": 251
        }
      ]
    },
    {
      "cell_type": "markdown",
      "source": [
        "## 解答候補を抽出する"
      ],
      "metadata": {
        "id": "fqHn13k3Wmr0"
      }
    },
    {
      "cell_type": "code",
      "source": [
        "!pip install -qU spacy ja_ginza"
      ],
      "metadata": {
        "id": "4yHU73PbWoyk"
      },
      "execution_count": 252,
      "outputs": []
    },
    {
      "cell_type": "code",
      "source": [
        "import spacy\n",
        "\n",
        "nlp=spacy.load('ja_ginza')"
      ],
      "metadata": {
        "id": "1o7Gqj_DW3n4"
      },
      "execution_count": 253,
      "outputs": []
    },
    {
      "cell_type": "code",
      "source": [
        "summary_text = index.query(\"要約してください\").response.strip()  # 本来は、記事そのままでよいだろう"
      ],
      "metadata": {
        "id": "s5xgP_SXb_x_"
      },
      "execution_count": 278,
      "outputs": []
    },
    {
      "cell_type": "code",
      "source": [
        "doc = nlp(summary_text)\n",
        "doc"
      ],
      "metadata": {
        "colab": {
          "base_uri": "https://localhost:8080/",
          "height": 0
        },
        "id": "nKU5wU9CWq1V",
        "outputId": "e67c6f6a-1adb-430a-fb0b-2bd44af68733"
      },
      "execution_count": 279,
      "outputs": [
        {
          "output_type": "execute_result",
          "data": {
            "text/plain": [
              "細野勇策が3位から11バーディー、1ボギーの61で通算16アンダー、126で首位に立ち、大会最少スコアを1打更新した。今平周吾が4打差で2位、田中裕基とマイケル・ヘンドリー（ニュージーランド）が3位、石川遼らが1打差で4位となり、金谷拓実は7アンダーの12位に後退した。香妻陣一朗は3アンダーの50位で、2アンダーまでの79人が決勝ラウンドに進んだ。"
            ]
          },
          "metadata": {},
          "execution_count": 279
        }
      ]
    },
    {
      "cell_type": "code",
      "source": [
        "[ (e.text, e.label_) for e in doc.ents ]"
      ],
      "metadata": {
        "colab": {
          "base_uri": "https://localhost:8080/",
          "height": 0
        },
        "id": "cifgNKOHXRiR",
        "outputId": "c14af150-d940-490e-86cb-7cfe2c6538fa"
      },
      "execution_count": 257,
      "outputs": [
        {
          "output_type": "execute_result",
          "data": {
            "text/plain": [
              "[('細野勇策', 'Person'),\n",
              " ('3位', 'Rank'),\n",
              " ('11バーディー', 'N_Organization'),\n",
              " ('1ボギー', 'Period_Day'),\n",
              " ('61', 'Numex_Other'),\n",
              " ('16アンダー', 'N_Product'),\n",
              " ('126', 'Numex_Other'),\n",
              " ('首位', 'Rank'),\n",
              " ('1打', 'N_Event'),\n",
              " ('田中裕基', 'Person'),\n",
              " ('マイケル・ヘンドリー', 'Person'),\n",
              " ('ニュージーランド', 'Country'),\n",
              " ('10アンダー', 'N_Product'),\n",
              " ('3位', 'Rank'),\n",
              " ('石川遼', 'Person'),\n",
              " ('1打', 'N_Event'),\n",
              " ('4位', 'Rank'),\n",
              " ('金谷拓実', 'Person'),\n",
              " ('71', 'Numex_Other'),\n",
              " ('7アンダー', 'N_Product'),\n",
              " ('12位', 'Rank'),\n",
              " ('香妻', 'Person'),\n",
              " ('3アンダー', 'N_Product'),\n",
              " ('50位', 'Rank'),\n",
              " ('2アンダー', 'N_Product'),\n",
              " ('79人', 'N_Person')]"
            ]
          },
          "metadata": {},
          "execution_count": 257
        }
      ]
    },
    {
      "cell_type": "markdown",
      "source": [
        "## 関連情報を得る\n",
        "\n",
        "ひとまず Wikipedia 日本語版の記事サマリーを用いる。ある解答候補について関連情報を得たら、そちらに基づいて質問を生成してもよい。\n",
        "\n",
        "- [PythonでWikipediaの情報を取得する | 分析ノート](https://analytics-note.xyz/programming/python-wikipedia/)\n",
        "- [wikipedia · PyPI](https://pypi.org/project/wikipedia/)"
      ],
      "metadata": {
        "id": "uW1APUjXbHWj"
      }
    },
    {
      "cell_type": "code",
      "source": [
        "import wikipedia\n",
        "wikipedia.set_lang(\"ja\")"
      ],
      "metadata": {
        "id": "tAVxbphOXitJ"
      },
      "execution_count": 258,
      "outputs": []
    },
    {
      "cell_type": "code",
      "source": [
        "for e in doc.ents:\n",
        "  if e.label_ in ['Person', 'Company', 'Country']:\n",
        "    print( e.text,  wikipedia.search(e.text, results=3))"
      ],
      "metadata": {
        "colab": {
          "base_uri": "https://localhost:8080/",
          "height": 0
        },
        "id": "gW3PeRiicWrq",
        "outputId": "636c06a1-8183-4cb7-e427-9e3d05c72ebe"
      },
      "execution_count": 259,
      "outputs": [
        {
          "output_type": "stream",
          "name": "stdout",
          "text": [
            "細野勇策 ['さすがの猿飛', '日本の写真家一覧', '岐阜県立岐阜高等学校']\n",
            "田中裕基 ['Over The Top (バンド)', '田中裕子', '田中裕二 (お笑い芸人)']\n",
            "マイケル・ヘンドリー ['マイケル・ジャクソン', 'ジミ・ヘンドリックス', 'マイケル・ランドウ']\n",
            "ニュージーランド ['ニュージーランド', 'ニュージーランド軍', 'ニュージーランド・レコード産業協会']\n",
            "石川遼 ['石川遼', '石川遼スペシャル RESPECT 〜ゴルフを愛する人々へ〜', 'ゴルフ日本シリーズ']\n",
            "金谷拓実 ['金谷拓実', 'インターナショナル・マネジメント・グループ', 'ダンロップフェニックストーナメント']\n",
            "香妻 ['香妻琴乃', '香妻陣一朗', 'ゴルファー一覧']\n"
          ]
        }
      ]
    },
    {
      "cell_type": "markdown",
      "source": [
        "「さすがの猿飛」は細野不二彦。おそらく間違い。"
      ],
      "metadata": {
        "id": "hI88NVrVsICO"
      }
    },
    {
      "cell_type": "code",
      "source": [
        "rel_urls = []\n",
        "for e in doc.ents:\n",
        "  if e.label_ in ['Person', 'Company', 'Country']:\n",
        "    wp_ents = wikipedia.search(e.text, results=3)\n",
        "    for wp in wp_ents:\n",
        "      wp_page = wikipedia.page(wp)\n",
        "      if e.text in wp_page.summary: # wp_page.contentでもよいが\n",
        "        rel_urls.append(wp_page.summary)\n",
        "\n",
        "rel_urls"
      ],
      "metadata": {
        "id": "yZLci4IjYEiO",
        "colab": {
          "base_uri": "https://localhost:8080/",
          "height": 0
        },
        "outputId": "f4d4a455-e0d3-4345-ebd9-1d6da9625165"
      },
      "execution_count": 260,
      "outputs": [
        {
          "output_type": "execute_result",
          "data": {
            "text/plain": [
              "['ニュージーランド\\nNew Zealand （英語）Aotearoa （マオリ語）\\n\\n国の標語：なし 1\\n国歌：God Defend New Zealand（英語）Aotearoa（マオリ語）神よニュージーランドを守り給え（アオテアロア）God Save the King（英語）神よ国王を護り賜え \\n\\n注1：かつての標語は、「Onward（英語：さらに先へ）」\\n注2：チャタム諸島は、ニュージーランド本土よりも45分進んでいる。ニュージーランド（英語: New Zealand、マオリ語: Aotearoa）は、南西太平洋のオセアニアのポリネシアに位置する立憲君主制国家。首都はウェリントンで、最大の都市はオークランドである。\\n島国であり、二つの主要な島と、多くの小さな島々からなる。北西に2,000km離れたオーストラリア大陸（オーストラリア連邦）と対する。南方の南極大陸とは2,600km離れている。北はトンガ、ニューカレドニア、フィジーがある。イギリス連邦加盟国であり、英連邦王国の一国となっている。また、ニュージーランド王国を構成する最大の主体地域である。',\n",
              " 'ニュージーランド国防軍（ニュージーランドこくぼうぐん、英語: New Zealand Defence Force マオリ語: Te Ope Kātua o Aotearoa）は、ニュージーランドにおける国防組織。陸海空の三軍からなる。',\n",
              " 'ニュージーランド・レコード産業協会（ニュージーランド・レコードさんぎょうきょうかい、Recorded Music NZ）は、ニュージーランドでの音楽販売に関わる音楽プロデューサー、販売者、音楽家らによる非営利の業界団体。RIANZ は、ニュージーランドで営業する音楽レーベルならば参加可能となっているが、米国と英国の「ビッグ4」（EMI、ソニー、ユニバーサル、ワーナー）が全体の 4/5 を占めて運営を取り仕切っている。ビッグ4以外に53の企業が参加している。',\n",
              " '『石川遼スペシャル RESPECT 〜ゴルフを愛する人々へ〜』（いしかわりょうスペシャル リスペクト ゴルフをあいするひとびとへ）は、2010年4月4日から2012年3月31日まで、テレビ東京系列で放送されていたゴルフトーク番組。石川遼の冠番組。\\n\\n',\n",
              " '香妻 琴乃（こうづま ことの、1992年4月17日 - ）は、日本の女子プロゴルファー。鹿児島県鹿屋市出身。サマンサタバサ所属。',\n",
              " '香妻 陣一郎（こうづま じんいちろう、1994年7月7日 - ）は、日本のプロゴルファー。鹿児島県鹿屋市出身、身長165cm、日章学園高校卒業、国際スポーツ振興協会所属。妻はモデルの武井玲奈。姉は女子プロゴルファーの香妻琴乃。']"
            ]
          },
          "metadata": {},
          "execution_count": 260
        }
      ]
    },
    {
      "cell_type": "code",
      "source": [
        "if False:\n",
        "  documents_rel = SimpleWebPageReader().load_data(rel_urls)\n",
        "  index_rel = GPTSimpleVectorIndex.from_documents(documents_rel)"
      ],
      "metadata": {
        "id": "lIpYq-MZaF2s"
      },
      "execution_count": 261,
      "outputs": []
    },
    {
      "cell_type": "code",
      "source": [
        "from gpt_index import StringIterableReader, GPTTreeIndex\n",
        "\n",
        "documents_rel = StringIterableReader().load_data(rel_urls)\n",
        "index_rel = GPTSimpleVectorIndex.from_documents(documents_rel)"
      ],
      "metadata": {
        "id": "GTahS5Z3uBgi"
      },
      "execution_count": 262,
      "outputs": []
    },
    {
      "cell_type": "markdown",
      "source": [
        "## 質問生成 四択問題"
      ],
      "metadata": {
        "id": "onxoc7rZcpw_"
      }
    },
    {
      "cell_type": "code",
      "source": [
        "index.query(\"あなたは有能なクイズ作家です。細野勇作が正解になる四択クイズを作ってください。\").response.strip()"
      ],
      "metadata": {
        "colab": {
          "base_uri": "https://localhost:8080/",
          "height": 36
        },
        "id": "2AoF-y7myW6X",
        "outputId": "87f1126c-76fb-4d77-c959-b331168f2665"
      },
      "execution_count": 263,
      "outputs": [
        {
          "output_type": "execute_result",
          "data": {
            "text/plain": [
              "'Q. 第2日の大会で首位に立ったのは誰でしたか？\\nA. 1. 今平周吾  2. 細野勇策  3. 田中裕基  4. マイケル・ヘンドリー'"
            ],
            "application/vnd.google.colaboratory.intrinsic+json": {
              "type": "string"
            }
          },
          "metadata": {},
          "execution_count": 263
        }
      ]
    },
    {
      "cell_type": "code",
      "source": [
        "index.query(\"あなたは有能なクイズ作家です。細野勇作が正解になる四択クイズを作ってください。3つ作ってください\").response.strip()"
      ],
      "metadata": {
        "colab": {
          "base_uri": "https://localhost:8080/",
          "height": 54
        },
        "id": "4GqRlJpSajOm",
        "outputId": "bc0f9f33-645e-414a-c99c-d7835201a108"
      },
      "execution_count": 264,
      "outputs": [
        {
          "output_type": "execute_result",
          "data": {
            "text/plain": [
              "'1. 細野勇策はどのツアーで未勝利でしたか？\\nA. PGAツアー\\nB. プロゴルフツアー\\nC. ワールドゴルフツアー\\nD. ヨーロッパツアー\\n\\n2. 細野勇策が獲得した大会最少スコアは何打でしたか？\\nA. 62\\nB. 63\\nC. 64\\nD. 61\\n\\n3. 細野勇策が首位に立った大会の通算スコアは何でしたか？\\nA. 15アンダー\\nB. 16アンダー\\nC. 17アンダー\\nD. 18アンダー'"
            ],
            "application/vnd.google.colaboratory.intrinsic+json": {
              "type": "string"
            }
          },
          "metadata": {},
          "execution_count": 264
        }
      ]
    },
    {
      "cell_type": "markdown",
      "source": [
        "## 検証: 質問＋各選択肢が成立するか\n",
        "\n",
        "正例負例それぞれで成立不成立を問い直す"
      ],
      "metadata": {
        "id": "0Xx_qGYocsHa"
      }
    },
    {
      "cell_type": "code",
      "source": [
        "query = \"\"\"あなたは有能なクイズ作家です。次の質問と回答のペアは適切ですか。YES/NOで答えてください。\n",
        "\n",
        "質問: 細野勇策が通算16アンダー首位となったのはどこで行われたゴルフ大会でしたか？\n",
        "回答: 東建ホームメイト・カップ\n",
        "\"\"\""
      ],
      "metadata": {
        "id": "-f1SOAGDeqZc"
      },
      "execution_count": 265,
      "outputs": []
    },
    {
      "cell_type": "code",
      "source": [
        "index.query(query).response.strip()"
      ],
      "metadata": {
        "colab": {
          "base_uri": "https://localhost:8080/",
          "height": 36
        },
        "id": "SIJC6Fq_ef8M",
        "outputId": "7ea78248-02cf-4a52-ebbc-0633812da216"
      },
      "execution_count": 266,
      "outputs": [
        {
          "output_type": "execute_result",
          "data": {
            "text/plain": [
              "'YES'"
            ],
            "application/vnd.google.colaboratory.intrinsic+json": {
              "type": "string"
            }
          },
          "metadata": {},
          "execution_count": 266
        }
      ]
    },
    {
      "cell_type": "markdown",
      "source": [
        "## 導入文の生成"
      ],
      "metadata": {
        "id": "CSyOYWRjc39a"
      }
    },
    {
      "cell_type": "code",
      "source": [
        "query_template = \"\"\"あなたは有能なクイズ作家です。次の質問と回答のペアに対して、クイズとして適切な導入文を付与してください。導入文には、質問の内容を含みません。導入文は疑問文ではありません。導入文には、解答の内容を含みません。 5つ、作成してください。\n",
        "\n",
        "質問: {question}\n",
        "回答: {answer}\n",
        "\"\"\""
      ],
      "metadata": {
        "id": "kMF-1eGWfF3d"
      },
      "execution_count": 267,
      "outputs": []
    },
    {
      "cell_type": "code",
      "source": [
        "question = \"細野勇策が通算16アンダー首位となったのはどこで行われたゴルフ大会でしたか？\"\n",
        "answer = \"東建ホームメイト・カップ\""
      ],
      "metadata": {
        "id": "wa4NvEJvqGoy"
      },
      "execution_count": 268,
      "outputs": []
    },
    {
      "cell_type": "code",
      "source": [
        "query = query_template.format(question=question, answer=answer)\n",
        "\n",
        "query"
      ],
      "metadata": {
        "colab": {
          "base_uri": "https://localhost:8080/",
          "height": 54
        },
        "id": "wR2YeCuwpnzf",
        "outputId": "51c8a0d0-5608-4894-f44a-04d6090aba9e"
      },
      "execution_count": 269,
      "outputs": [
        {
          "output_type": "execute_result",
          "data": {
            "text/plain": [
              "'あなたは有能なクイズ作家です。次の質問と回答のペアに対して、クイズとして適切な導入文を付与してください。導入文には、質問の内容を含みません。導入文は疑問文ではありません。導入文には、解答の内容を含みません。 5つ、作成してください。\\n\\n質問: 細野勇策が通算16アンダー首位となったのはどこで行われたゴルフ大会でしたか？\\n回答: 東建ホームメイト・カップ\\n'"
            ],
            "application/vnd.google.colaboratory.intrinsic+json": {
              "type": "string"
            }
          },
          "metadata": {},
          "execution_count": 269
        }
      ]
    },
    {
      "cell_type": "code",
      "source": [
        "index.query(query).response.strip().replace('\\n','')"
      ],
      "metadata": {
        "colab": {
          "base_uri": "https://localhost:8080/",
          "height": 54
        },
        "id": "O1Y84jFpfYTG",
        "outputId": "828f903e-8ae8-48c2-98bc-16e31e1583dd"
      },
      "execution_count": 270,
      "outputs": [
        {
          "output_type": "execute_result",
          "data": {
            "text/plain": [
              "'1. 東建ホームメイト・カップで細野勇策が通算16アンダーで首位を獲得しました。2. 細野勇策が通算16アンダーで首位を獲得したのは、東建ホームメイト・カップでした。3. 東建ホームメイト・カップで細野勇策が通算16アンダーで首位を獲得しました。4. 細野勇策が東建ホームメイト・カップで通算16アンダーで首位を獲得しました。5. 東建ホームメイト・カップで細'"
            ],
            "application/vnd.google.colaboratory.intrinsic+json": {
              "type": "string"
            }
          },
          "metadata": {},
          "execution_count": 270
        }
      ]
    },
    {
      "cell_type": "code",
      "source": [
        "index_rel.query(query).response.strip().replace('\\n','')"
      ],
      "metadata": {
        "colab": {
          "base_uri": "https://localhost:8080/",
          "height": 54
        },
        "id": "vBxk5YYvwerG",
        "outputId": "96833297-a0d4-477e-89d2-6ea8396339af"
      },
      "execution_count": 271,
      "outputs": [
        {
          "output_type": "execute_result",
          "data": {
            "text/plain": [
              "'1. 細野勇策がゴルフ大会で何を達成したのかご存知ですか？2. 東建ホームメイト・カップで細野勇策が何を達成したのでしょうか？3. 細野勇策がゴルフ大会で何を達成したか、ご存知ですか？4. 細野勇策がゴルフ大会で何を達成したのか、ご存知ですか？5. 東建ホームメイト・カップで細野勇策が何を達成したのか、ご存知ですか？'"
            ],
            "application/vnd.google.colaboratory.intrinsic+json": {
              "type": "string"
            }
          },
          "metadata": {},
          "execution_count": 271
        }
      ]
    },
    {
      "cell_type": "markdown",
      "source": [
        "## 導入文と質問・解答をペアにしてすわりがよいかを評価\n",
        "## クイズの難しさの評価\n",
        "## クイズとしての面白さの評価\n",
        "\n",
        "\n",
        "TBD"
      ],
      "metadata": {
        "id": "mQhdArW4BrkM"
      }
    },
    {
      "cell_type": "markdown",
      "source": [
        "----\n"
      ],
      "metadata": {
        "id": "0UPaoBxx-Qf8"
      }
    },
    {
      "cell_type": "code",
      "source": [
        "index.query(\"\"\"あなたはプロのクイズ作家です。特に四択問題を作ることを得意としています。 以下のテーマでクイズを作ってください。\n",
        "\n",
        "テーマ：ボーイング737MAX\"\"\").response.strip()"
      ],
      "metadata": {
        "colab": {
          "base_uri": "https://localhost:8080/",
          "height": 36
        },
        "id": "6zMKtP2AbUJJ",
        "outputId": "bea99c3b-b895-450d-d807-fe9a25921db0"
      },
      "execution_count": 272,
      "outputs": [
        {
          "output_type": "execute_result",
          "data": {
            "text/plain": [
              "'Q. ボーイング737MAXは何番目の737シリーズですか？\\n\\nA. ボーイング737MAXは737シリーズの9番目です。'"
            ],
            "application/vnd.google.colaboratory.intrinsic+json": {
              "type": "string"
            }
          },
          "metadata": {},
          "execution_count": 272
        }
      ]
    },
    {
      "cell_type": "code",
      "source": [
        "index.query(\"\"\"あなたはプロのクイズ作家です。特に四択問題を作ることを得意としています。 以下のテーマで四択クイズを作ってください。\n",
        "\n",
        "テーマ：細野勇策\"\"\").response.strip()"
      ],
      "metadata": {
        "colab": {
          "base_uri": "https://localhost:8080/",
          "height": 36
        },
        "id": "EoxXOxsenCTd",
        "outputId": "433b9a2e-eb1d-4711-c747-070ee040fa60"
      },
      "execution_count": 139,
      "outputs": [
        {
          "output_type": "execute_result",
          "data": {
            "text/plain": [
              "'Q. 細野勇策が通算16アンダー首位を獲得したのはどこでしたか？\\n\\nA. 東建ホームメイト・カップ第2日（31日・三重県東建多度CC名古屋＝7062ヤード、パー71）'"
            ],
            "application/vnd.google.colaboratory.intrinsic+json": {
              "type": "string"
            }
          },
          "metadata": {},
          "execution_count": 139
        }
      ]
    },
    {
      "cell_type": "code",
      "source": [
        "index.query(\"\"\"あなたはプロのクイズ作家です。特に四択問題を作ることを得意としています。 以下のテーマで四択クイズを作ってください。\n",
        "\n",
        "テーマ：東建\"\"\").response.strip()"
      ],
      "metadata": {
        "colab": {
          "base_uri": "https://localhost:8080/",
          "height": 54
        },
        "id": "vCUz12eZnUiT",
        "outputId": "756b915c-409b-49a0-aff0-cc065ba96cb5"
      },
      "execution_count": 140,
      "outputs": [
        {
          "output_type": "execute_result",
          "data": {
            "text/plain": [
              "'Q. 東建ホームメイト・カップ第2日（31日・三重県東建多度CC名古屋＝7062ヤード、パー71）で首位を獲得したのは誰でしたか？\\n\\nA. 共同通信が報じたところによると、細野勇策が東建ホームメイト・カップ第2日（31日・三重県東建多度CC名古屋＝7062ヤード、パー71）で首位を獲得したとのことです。'"
            ],
            "application/vnd.google.colaboratory.intrinsic+json": {
              "type": "string"
            }
          },
          "metadata": {},
          "execution_count": 140
        }
      ]
    },
    {
      "cell_type": "code",
      "source": [
        "index.query(\"\"\"あなたはプロのクイズ作家です。特に四択問題を作ることを得意としています。 以下のテーマで四択クイズを作ってください。3つ作ってください。\n",
        "\n",
        "テーマ：東建\"\"\").response.strip()"
      ],
      "metadata": {
        "colab": {
          "base_uri": "https://localhost:8080/",
          "height": 54
        },
        "id": "qO8hwOSsncqH",
        "outputId": "22dd1e3f-863b-44ee-8c0e-2b67f1f89452"
      },
      "execution_count": 216,
      "outputs": [
        {
          "output_type": "execute_result",
          "data": {
            "text/plain": [
              "'1. 東建ホームメイト・カップはどこで開催されましたか？\\nA. 東京\\nB. 三重県東建多度CC名古屋\\nC. 大阪\\nD. 北海道\\n\\n2. 東建ホームメイト・カップの第2日で、細野勇策が通算何アンダーで首位になりましたか？\\nA. 10アンダー\\nB. 12アンダー\\nC. 14アンダー\\nD. 16アンダー\\n\\n3. 東建ホームメイト・カップの第2日で、細野勇策が首位になった時の年齢は何歳でしたか？'"
            ],
            "application/vnd.google.colaboratory.intrinsic+json": {
              "type": "string"
            }
          },
          "metadata": {},
          "execution_count": 216
        }
      ]
    },
    {
      "cell_type": "code",
      "source": [
        "index_rel.query(\"\"\"あなたはプロのクイズ作家です。特に四択問題を作ることを得意としています。 以下のテーマで四択クイズを作ってください。3つ作ってください。\n",
        "\n",
        "テーマ：東建\"\"\").response.strip()"
      ],
      "metadata": {
        "colab": {
          "base_uri": "https://localhost:8080/",
          "height": 54
        },
        "id": "93o6IV6t61C9",
        "outputId": "04ac506e-5465-4896-98d1-d79a09847ef0"
      },
      "execution_count": 217,
      "outputs": [
        {
          "output_type": "execute_result",
          "data": {
            "text/plain": [
              "'1. 東建ホームメイトカップは何月に開催されるか？\\nA. 1月\\nB. 2月\\nC. 3月\\nD. 4月\\n\\n2. 東建ホームメイトカップは何のトーナメントであるか？\\nA. テニス\\nB. バスケットボール\\nC. バレーボール\\nD. ゴルフ\\n\\n3. 東建ホームメイトカップは誰が主催しているか？\\nA. 日本ゴルフツアー\\nB. 東建コーポレーション\\nC. 日本テニス協会\\nD. 日本バスケットボール協会'"
            ],
            "application/vnd.google.colaboratory.intrinsic+json": {
              "type": "string"
            }
          },
          "metadata": {},
          "execution_count": 217
        }
      ]
    },
    {
      "cell_type": "code",
      "source": [],
      "metadata": {
        "id": "l8oncZBCm6Gt"
      },
      "execution_count": 141,
      "outputs": []
    },
    {
      "cell_type": "markdown",
      "source": [
        "あなたはプロのクイズ作家です。特に四択問題を作ることを得意としています。\n",
        "以下のテーマでクイズを作ってください。\n",
        "\n",
        "テーマ：ボーイング737MAX\n",
        "\n"
      ],
      "metadata": {
        "id": "-vyiBBq2kp-4"
      }
    },
    {
      "cell_type": "markdown",
      "source": [
        "ボーイング737MAXはエンジン火災の危険性の問題で一時的に運行停止になりましたか? YES/NOで答えてください"
      ],
      "metadata": {
        "id": "GjHLKeO2kuib"
      }
    },
    {
      "cell_type": "markdown",
      "source": [
        "次の質問と回答のペアは正しいですか? YES/NOで答えてください。理由もお願いします。\n",
        "\n",
        "質問: ボーイング737MAXはどのような問題で一時的に運行停止になりましたか？\n",
        "回答: MCASシステムの不具合による墜落事故"
      ],
      "metadata": {
        "id": "SUeh8sU2kzbI"
      }
    },
    {
      "cell_type": "markdown",
      "source": [
        "次の質問と回答のペアが正しくなるよう、新しい質問を作ってください。\n",
        "\n",
        "質問: ボーイング737MAXはどのような問題で永久に運行停止になりましたか？\n",
        "回答: MCASシステムの不具合による墜落事故"
      ],
      "metadata": {
        "id": "3-baMyPuk4aD"
      }
    },
    {
      "cell_type": "markdown",
      "source": [
        "次の質問と回答のペアに対して、クイズとして適切な導入文を付与してください。導入文には、質問の内容を含みません。導入文には、解答の内容を含みません。 5つ、作成してください。"
      ],
      "metadata": {
        "id": "On099Fgvk_5g"
      }
    }
  ]
}