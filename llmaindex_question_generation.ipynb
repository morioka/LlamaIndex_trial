{
  "nbformat": 4,
  "nbformat_minor": 0,
  "metadata": {
    "colab": {
      "provenance": [],
      "include_colab_link": true
    },
    "kernelspec": {
      "name": "python3",
      "display_name": "Python 3"
    },
    "language_info": {
      "name": "python"
    }
  },
  "cells": [
    {
      "cell_type": "markdown",
      "metadata": {
        "id": "view-in-github",
        "colab_type": "text"
      },
      "source": [
        "<a href=\"https://colab.research.google.com/github/morioka/LlamaIndex_trial/blob/main/llmaindex_question_generation.ipynb\" target=\"_parent\"><img src=\"https://colab.research.google.com/assets/colab-badge.svg\" alt=\"Open In Colab\"/></a>"
      ]
    },
    {
      "cell_type": "markdown",
      "source": [
        "# LlamaIndexを用いて、クイズ生成を考える\n",
        "\n",
        "- インデックスを作成する\n",
        "- BeautifulSoupをつかって記事本文だけをインデックス\n",
        "- 解答候補を抽出する\n",
        "- 関連情報を得る\n",
        "- 質問生成：四択問題\n",
        "- 検証: 質問＋各選択肢が成立するか\n",
        "- 導入文の生成\n",
        "- 導入文と質問・解答をペアにしてすわりがよいかを評価\n",
        "- クイズの難しさの評価\n",
        "- クイズとしての面白さの評価\n",
        "\n",
        "\n",
        "\n",
        "\n",
        "\n"
      ],
      "metadata": {
        "id": "5r0yvbaH6Gz5"
      }
    },
    {
      "cell_type": "markdown",
      "source": [
        "- [ChatGPTで独自データを利用できるLlamaIndexはどんな仕組みで動いているのか？調べてみました | DevelopersIO](https://dev.classmethod.jp/articles/llamaindex-overview/)"
      ],
      "metadata": {
        "id": "PB5upn7jBlqY"
      }
    },
    {
      "cell_type": "markdown",
      "source": [
        "## 対象の記事"
      ],
      "metadata": {
        "id": "jQec7obT9bTY"
      }
    },
    {
      "cell_type": "code",
      "source": [
        "# この例では、この記事を使います\n",
        "\n",
        "article_urls=['https://nordot.app/1014472568104288256']  # 細野勇策が通算16アンダー首位　東建男子ゴルフ第2日 ｜ 共同通信 (2023/03/31)"
      ],
      "metadata": {
        "id": "3BlpLz-n9cAM"
      },
      "execution_count": 1,
      "outputs": []
    },
    {
      "cell_type": "code",
      "source": [
        "# nordotから一覧\n",
        "\n",
        "from urllib import request  # urllib.requestモジュールをインポート\n",
        "import json\n",
        "\n",
        "url = 'https://nordot.app/-/units/39166665832988672/list?offset=10&limit=10'\n",
        "user_agent = 'Mozilla/5.0 (Windows NT 6.1; Win64; x64)'   # User-Agentを設定しないと応答を返さない\n",
        "headers = {'User-Agent': user_agent}\n",
        "\n",
        "req = request.Request(url, headers=headers)\n",
        "with request.urlopen(req) as response:\n",
        "   content = json.loads(response.read().decode('utf8'))\n"
      ],
      "metadata": {
        "id": "OoUdtxsAD0PX"
      },
      "execution_count": 2,
      "outputs": []
    },
    {
      "cell_type": "code",
      "source": [
        "[\n",
        "    (p[\"title\"], p[\"published_at\"], f'https://nordot.app/{p[\"id\"]}') for p in content['posts']\n",
        "]\n"
      ],
      "metadata": {
        "colab": {
          "base_uri": "https://localhost:8080/"
        },
        "id": "qH4HA1ujHBAd",
        "outputId": "a207cb9c-680e-409c-a35c-5933f6a10b6f"
      },
      "execution_count": 3,
      "outputs": [
        {
          "output_type": "execute_result",
          "data": {
            "text/plain": [
              "[('米2月物価、5％上昇',\n",
              "  '2023-03-31T13:07:43+00:00',\n",
              "  'https://nordot.app/1014522080913571840'),\n",
              " ('NY円、132円台後半',\n",
              "  '2023-03-31T13:06:07+00:00',\n",
              "  'https://nordot.app/1014521617494933504'),\n",
              " ('トランプ氏、4日にも出頭',\n",
              "  '2023-03-31T13:05:53+00:00',\n",
              "  'https://nordot.app/1014495251956924416'),\n",
              " ('不正閲覧、改善命令を勧告',\n",
              "  '2023-03-31T12:58:56+00:00',\n",
              "  'https://nordot.app/1014499439336554496'),\n",
              " ('西2―3オ（31日）',\n",
              "  '2023-03-31T12:56:03+00:00',\n",
              "  'https://nordot.app/1014513667462299648'),\n",
              " ('WBC優勝の熱気つなげる',\n",
              "  '2023-03-31T12:55:41+00:00',\n",
              "  'https://nordot.app/1014518304881295360'),\n",
              " ('前大統領起訴「ノーコメント」とバイデン氏',\n",
              "  '2023-03-31T12:54:48+00:00',\n",
              "  'https://nordot.app/1014518711919214592'),\n",
              " ('厚労省、「エホバ」と面会し要請',\n",
              "  '2023-03-31T12:54:37+00:00',\n",
              "  'https://nordot.app/1014499176452636672'),\n",
              " ('神6―3D（31日）',\n",
              "  '2023-03-31T12:54:24+00:00',\n",
              "  'https://nordot.app/1014518178649620480'),\n",
              " ('米国との戦略核の均衡保つとロ外交政策概念',\n",
              "  '2023-03-31T12:50:41+00:00',\n",
              "  'https://nordot.app/1014517638885523456')]"
            ]
          },
          "metadata": {},
          "execution_count": 3
        }
      ]
    },
    {
      "cell_type": "markdown",
      "source": [
        "## インデックスを作成する\n"
      ],
      "metadata": {
        "id": "RPcGsI7c5-tf"
      }
    },
    {
      "cell_type": "code",
      "source": [
        "!pip install -qU llama-index wikipedia langchain html2text"
      ],
      "metadata": {
        "id": "OOgrHoo2UM6l",
        "outputId": "c6b42b10-6e41-48e7-c77e-dab5279cbb42",
        "colab": {
          "base_uri": "https://localhost:8080/"
        }
      },
      "execution_count": 4,
      "outputs": [
        {
          "output_type": "stream",
          "name": "stdout",
          "text": [
            "\u001b[?25l     \u001b[90m━━━━━━━━━━━━━━━━━━━━━━━━━━━━━━━━━━━━━━━━\u001b[0m \u001b[32m0.0/162.6 KB\u001b[0m \u001b[31m?\u001b[0m eta \u001b[36m-:--:--\u001b[0m\r\u001b[2K     \u001b[90m━━━━━━━━━━━━━━━━━━━━━━━━━━━━━━━━━━━━━━━\u001b[0m \u001b[32m162.6/162.6 KB\u001b[0m \u001b[31m4.7 MB/s\u001b[0m eta \u001b[36m0:00:00\u001b[0m\n",
            "\u001b[?25h  Preparing metadata (setup.py) ... \u001b[?25l\u001b[?25hdone\n",
            "  Preparing metadata (setup.py) ... \u001b[?25l\u001b[?25hdone\n",
            "\u001b[2K     \u001b[90m━━━━━━━━━━━━━━━━━━━━━━━━━━━━━━━━━━━━━━\u001b[0m \u001b[32m462.6/462.6 KB\u001b[0m \u001b[31m21.3 MB/s\u001b[0m eta \u001b[36m0:00:00\u001b[0m\n",
            "\u001b[2K     \u001b[90m━━━━━━━━━━━━━━━━━━━━━━━━━━━━━━━━━━━━━━━━\u001b[0m \u001b[32m70.1/70.1 KB\u001b[0m \u001b[31m10.0 MB/s\u001b[0m eta \u001b[36m0:00:00\u001b[0m\n",
            "\u001b[2K     \u001b[90m━━━━━━━━━━━━━━━━━━━━━━━━━━━━━━━━━━━━━━━━\u001b[0m \u001b[32m1.7/1.7 MB\u001b[0m \u001b[31m65.1 MB/s\u001b[0m eta \u001b[36m0:00:00\u001b[0m\n",
            "\u001b[2K     \u001b[90m━━━━━━━━━━━━━━━━━━━━━━━━━━━━━━━━━━━━━━━━\u001b[0m \u001b[32m1.0/1.0 MB\u001b[0m \u001b[31m73.9 MB/s\u001b[0m eta \u001b[36m0:00:00\u001b[0m\n",
            "\u001b[2K     \u001b[90m━━━━━━━━━━━━━━━━━━━━━━━━━━━━━━━━━━━━━━\u001b[0m \u001b[32m158.8/158.8 KB\u001b[0m \u001b[31m18.5 MB/s\u001b[0m eta \u001b[36m0:00:00\u001b[0m\n",
            "\u001b[2K     \u001b[90m━━━━━━━━━━━━━━━━━━━━━━━━━━━━━━━━━━━━━━\u001b[0m \u001b[32m264.6/264.6 KB\u001b[0m \u001b[31m31.7 MB/s\u001b[0m eta \u001b[36m0:00:00\u001b[0m\n",
            "\u001b[2K     \u001b[90m━━━━━━━━━━━━━━━━━━━━━━━━━━━━━━━━━━━━━━\u001b[0m \u001b[32m114.2/114.2 KB\u001b[0m \u001b[31m17.3 MB/s\u001b[0m eta \u001b[36m0:00:00\u001b[0m\n",
            "\u001b[2K     \u001b[90m━━━━━━━━━━━━━━━━━━━━━━━━━━━━━━━━━━━━━━━━\u001b[0m \u001b[32m49.1/49.1 KB\u001b[0m \u001b[31m6.9 MB/s\u001b[0m eta \u001b[36m0:00:00\u001b[0m\n",
            "\u001b[?25h  Building wheel for llama-index (setup.py) ... \u001b[?25l\u001b[?25hdone\n",
            "  Building wheel for wikipedia (setup.py) ... \u001b[?25l\u001b[?25hdone\n"
          ]
        }
      ]
    },
    {
      "cell_type": "code",
      "source": [
        "!pip install -qU gpt-index"
      ],
      "metadata": {
        "id": "XIhxRAOql0PL",
        "outputId": "96e2e6d7-97a7-4b41-9f6a-26abde5b2155",
        "colab": {
          "base_uri": "https://localhost:8080/"
        }
      },
      "execution_count": 5,
      "outputs": [
        {
          "output_type": "stream",
          "name": "stdout",
          "text": [
            "\u001b[?25l     \u001b[90m━━━━━━━━━━━━━━━━━━━━━━━━━━━━━━━━━━━━━━━━\u001b[0m \u001b[32m0.0/294.0 KB\u001b[0m \u001b[31m?\u001b[0m eta \u001b[36m-:--:--\u001b[0m\r\u001b[2K     \u001b[91m━━━━━━━━━━━━━━━━━━━━━━━━━━━━━━━━━━━━━━\u001b[0m\u001b[90m╺\u001b[0m \u001b[32m286.7/294.0 KB\u001b[0m \u001b[31m8.2 MB/s\u001b[0m eta \u001b[36m0:00:01\u001b[0m\r\u001b[2K     \u001b[90m━━━━━━━━━━━━━━━━━━━━━━━━━━━━━━━━━━━━━━━\u001b[0m \u001b[32m294.0/294.0 KB\u001b[0m \u001b[31m6.4 MB/s\u001b[0m eta \u001b[36m0:00:00\u001b[0m\n",
            "\u001b[?25h"
          ]
        }
      ]
    },
    {
      "cell_type": "code",
      "execution_count": 7,
      "metadata": {
        "id": "iT3VVbxLULB-"
      },
      "outputs": [],
      "source": [
        "import os\n",
        "os.environ[\"OPENAI_API_KEY\"] = 'YOUR_OPENAI_API_KEY'"
      ]
    },
    {
      "cell_type": "code",
      "source": [
        "from llama_index import GPTSimpleVectorIndex, SimpleDirectoryReader\n",
        "#documents = SimpleDirectoryReader('data').load_data()\n",
        "#index = GPTSimpleVectorIndex.from_documents(documents)"
      ],
      "metadata": {
        "id": "ankXAlbuPAXg"
      },
      "execution_count": null,
      "outputs": []
    },
    {
      "cell_type": "code",
      "source": [
        "from llama_index import GPTSimpleVectorIndex, SimpleWebPageReader\n",
        "\n",
        "documents = SimpleWebPageReader().load_data(article_urls)\n",
        "index = GPTSimpleVectorIndex.from_documents(documents)"
      ],
      "metadata": {
        "id": "6nCT507ZUfkA"
      },
      "execution_count": 8,
      "outputs": []
    },
    {
      "cell_type": "code",
      "source": [
        "index.query(\"<question_text>?\")"
      ],
      "metadata": {
        "colab": {
          "base_uri": "https://localhost:8080/"
        },
        "id": "JaNf2fRVU6dd",
        "outputId": "b2c237c7-fa11-4faf-cda1-bcb1245e7462"
      },
      "execution_count": 9,
      "outputs": [
        {
          "output_type": "execute_result",
          "data": {
            "text/plain": [
              "Response(response='\\nThe answer to the question is not provided in the context information.', source_nodes=[NodeWithScore(node=Node(text='   <path class=\"cls-1\" d=\"M170.46,63.44A22.18,22.18,0,0,1,162,61.77a20.89,20.89,0,0,1-7.25-5,24.69,24.69,0,0,1-5.06-8.08,29.6,29.6,0,0,1-1.91-11v-.18a29.6,29.6,0,0,1,1.91-11,25.27,25.27,0,0,1,5-8.08,20.47,20.47,0,0,1,7.2-5,22.3,22.3,0,0,1,8.55-1.67A17.68,17.68,0,0,1,179.79,14a24.73,24.73,0,0,1,6.18,5.2v-18A1.25,1.25,0,0,1,187.21,0h11.64a1.25,1.25,0,0,1,1.24,1.24v60a1.25,1.25,0,0,1-1.24,1.24H187.21A1.25,1.25,0,0,1,186,61.27V55.36a22.2,22.2,0,0,1-6.27,5.8A17.24,17.24,0,0,1,170.46,63.44Zm3.62-12a11.36,11.36,0,0,0,4.69-1,11.22,11.22,0,0,0,3.81-2.78,14,14,0,0,0,2.6-4.37,15.64,15.64,0,0,0,1-5.62v-.18a15.6,15.6,0,0,0-1-5.62,13.89,13.89,0,0,0-2.6-4.37,11.12,11.12,0,0,0-3.81-2.79,11.82,11.82,0,0,0-9.38,0,11.56,11.56,0,0,0-3.85,2.79,13.47,13.47,0,0,0-2.65,4.32,15.53,15.53,0,0,0-1,5.67v.18a15.64,15.64,0,0,0,1,5.62,13.39,13.39,0,0,0,2.65,4.37,11.67,11.67,0,0,0,3.85,2.78A11.36,11.36,0,0,0,174.08,51.46Z\"/>\\n    <path class=\"cls-1\" d=\"M232.68,63.63a28.16,28.16,0,0,1-10.68-2,26.18,26.18,0,0,1-8.5-5.48A25.51,25.51,0,0,1,207.88,48a24.94,24.94,0,0,1-2-10.07v-.19a25,25,0,0,1,2-10.08,25.73,25.73,0,0,1,5.67-8.22,26.8,26.8,0,0,1,8.54-5.57,29.58,29.58,0,0,1,21.46-.05,26.24,26.24,0,0,1,8.5,5.48,25.62,25.62,0,0,1,5.62,8.18,25,25,0,0,1,2,10.08v.18a25,25,0,0,1-2,10.08A25.51,25.51,0,0,1,252,56a26.8,26.8,0,0,1-8.54,5.57A27.9,27.9,0,0,1,232.68,63.63Zm.19-12.17a13.12,13.12,0,0,0,5.43-1.07,11.91,11.91,0,0,0,4-2.93,12.72,12.72,0,0,0,2.56-4.31,15.47,15.47,0,0,0,.88-5.25v-.19a14.72,14.72,0,0,0-.93-5.25,13.33,13.33,0,0,0-2.69-4.36,13.14,13.14,0,0,0-4.18-3,12.55,12.55,0,0,0-5.3-1.12A13.12,13.12,0,0,0,227.25,25a12,12,0,0,0-4,2.93,12.86,12.86,0,0,0-2.56,4.32,15.64,15.64,0,0,0-.88,5.25v.18A14.72,14.72,0,0,0,220.7,43a13.3,13.3,0,0,0,6.83,7.38A12.3,12.3,0,0,0,232.87,51.46Z\"/>\\n    <path class=\"cls-1\" d=\"M264.64,12.73V1.24A1.25,1.25,0,0,1,265.89,0h11.63a1.25,1.25,0,0,1,1.24,1.24V12.73h10.46A1.23,1.23,0,0,1,290.46,14v9.59a1.24,1.24,0,0,1-1.24,1.24H278.76V46.15q0,4.85,4.55,4.84a13.85,13.85,0,0,0,5.27-1,1.24,1.24,0,0,1,1.7,1.15v8.62a1.21,1.21,0,0,1-.64,1.08,21.78,21.78,0,0,1-4.28,1.74,22.51,22.51,0,0,1-6.23.79,23,23,0,0,1-5.9-.7,10.45,10.45,0,0,1-4.55-2.46,11.82,11.82,0,0,1-3-4.6,20.71,20.71,0,0,1-1.07-7.2V12.73Z\"/>\\n  </g>\\n</svg>\\n</span>\\n            </a>\\n        </div>\\n      </bdi>\\n    </div>\\n  </div>\\n</footer>\\n\\n          </div>\\n        </div>\\n      </div>\\n    </div>\\n  </div>\\n</div>\\n\\n      </div>\\n    </div>\\n    \\n  \\n</div>\\n\\n\\n  <div id=\"no-hindsight-ip-unit\" style=\"display:none;\"></div>\\n\\n\\n<script src=\"https://ajax.googleapis.com/ajax/libs/jquery/1.11.3/jquery.min.js\"></script>\\n<script src=\"/images/newsnor/kiji/js/pc/common.js?4560510833\"></script>\\n<script defer>\\n(function(i,s,o,g,r,a,m){i[\\'GoogleAnalyticsObject\\']=r;i[r]=i[r]||function(){\\n(i[r].q=i[r].q||[]).push(arguments)},i[r].l=1*new Date();a=s.createElement(o),\\nm=s.getElementsByTagName(o)[0];a.async=1;a.src=g;m.parentNode.insertBefore(a,m)\\n})(window,document,\\'script\\',\\'//www.google-analytics.com/analytics.js\\',\\'ga\\');\\n$.callGa = function() {\\n  \\n  ga(\\'create\\', \\'UA-85365015-2\\', \\'auto\\', \\'ch\\');\\n  ga(\\'ch.send\\', \\'pageview\\');\\n  \\n  ga(\\'create\\', \\'UA-72949515-1\\', \\'auto\\');\\n  ga(\\'send\\', \\'pageview\\');\\n}\\n</script>\\n<script src=\"https://cdnjs.cloudflare.com/ajax/libs/underscore.js/1.8.3/underscore-min.js\"></script>\\n\\n\\n<script src=\"/images/newsnor/kiji/js/pc/curatedBy.js?4560510833\"></script>\\n<script src=\"/images/newsnor/kiji/js/pc/ready.js?4560510833\"></script>\\n<script src=\"/images/newsnor/kiji/js/pc/plugin.js?4560510833\"></script>\\n<script src=\"https://log.nordot.jp/js/beacon-1.1.0.js?2020083101\"></script>\\n\\n<script type=\"text/javascript\">\\n\\n  nor.pageviewURL = \"https://log.nordot.jp/pageview\";\\n\\n\\n  nor.eventURL = \"https://log.nordot.jp/event\";\\n\\n\\nnor.setPageData({\\n  pagetype: \\'detail\\',\\n  conttype: \\'post\\',\\n  uiid: \\'kijipc\\',\\n  postid: \"1014472568104288256\",\\n  conturl: \"aHR0cHM6Ly9ub3Jkb3QuYXBwLzEwMTQ0NzI1NjgxMDQyODgyNTY=\",\\n  contdata: {\\n    title: \"細野勇策が通算16アンダー首位\",\\n    numimg:  1 ,\\n    cvrimg: 0,\\n    bodylen:  287 ,\\n    pubdate: \"1680256652\",\\n    chname: \"共同通信\",\\n    \\n    chlang: \"ja-JP\",\\n    labels: [\"スポーツ\",\"ゴルフ\"],\\n    gcats: [\"/Sports\"],\\n    gcatscores: [0.7],\\n    icats: [\"IAB17\"],\\n    onlyjp: 1,\\n    numrcmd:  5 ,\\n    pubcntry: \"jp\"\\n  },\\n  chunitid: \"39166665832988672\",\\n  testids: \"pc-ad-right_ja,ad-vidazoo_off,recommend_on,open-ch-facebook_off,open-ch-twitter_on,open-ch-instagram_off,open-ch-line_on,open-ch-youtube_on,series_off,topic_on,author_off,tag_on,related-post_off,curator_off,curator-detail_off,also-curate_off,share-whatsapp_off,share-hatebu_on,share-line_off,header-ch-image_on,header-open-ch-website_on,copyright-owner_on,twitter-timeline_on\",\\n  delete_cookie: $.isUnaccepted(),\\n  readerdata: {\\n    init_gdpr: $.gdprLogValue()\\n  }\\n  \\n  \\n});\\n\\njQuery(function($) {\\n  nor.pageview();\\n  $.fn.initPlugin();\\n  $.fn.startWatchReaded(nor.event);\\n  $.fn.startWatchDuration(nor.event);\\n  $.fn.startWatchLoggedModules();\\n  $.fn.startWatchLoggedModulesViewable();\\n  $.fn.sendVisibilityPageviewIfNeeded();\\n  document.addEventListener(\\'visibilitychange\\', $.fn.sendVisibilityPageviewIfNeeded);\\n});\\n</script>\\n\\n\\n<script>\\njQuery(function($) {\\n  nor.isSetPopInClicked = false;\\n  nor.countPopInClicks = 0;\\n  $(\\'#_popIn_recommend_new\\').on(\\'DOMNodeInserted\\',\\n    function(){\\n      if (!nor.isSetPopInClicked) {\\n        nor.isSetPopInClicked = true;\\n        nor.event({\\n          eventid: \\'popin_inserted\\',\\n        });\\n        $(\\'._popIn_recommend_article\\').on(\\'click contextmenu\\', function(){\\n          let isAd = false;\\n          if ($(this).hasClass(\\'_popIn_recommend_article_ad\\')) {\\n            isAd = true;\\n          }\\n          nor.countPopInClicks++;\\n          nor.event({\\n            eventid: \\'popin_clicked\\',\\n            eventdata: {isad: isAd, cntclicks:nor.countPopInClicks}\\n          });\\n        })\\n      }\\n    }\\n  );\\n});\\n</script>\\n\\n\\n<script>\\njQuery(function($) {\\n  nor.countRevContentClicks = 0;\\n  nor.countRevContentLoadMore = 0;\\n  $(\\'#rc-widget-882cde\\').on(\\'DOMNodeInserted\\',\\n    function(){\\n      $(\\'.rc-item\\').off(\\'click\\');\\n      $(\\'.rc-item\\').on(\\'click\\', function(){\\n        let isAd = false;\\n        if ($(this).hasClass(\\'rc-sponsored\\')) {\\n          isAd = true;\\n        }\\n        nor.countRevContentClicks++;\\n        nor.event({\\n          eventid: \\'revcontent_clicked\\',\\n          eventdata: {isad: isAd, cntclicks:nor.countRevContentClicks}\\n        });\\n      });\\n      $(\\'.rc-btn\\').off(\\'click\\');\\n      $(\\'.rc-btn\\').on(\\'click\\', function(){\\n        nor.countRevContentLoadMore++;\\n        nor.event({\\n          eventid: \\'revcontent_loadmore\\',\\n          eventdata: {cntloadmore:nor.countRevContentLoadMore}\\n        });\\n      });\\n    }\\n ', doc_id='ceed77d8-2ef5-4a60-b6b8-0a1ed5a27746', embedding=None, doc_hash='37e850d960cd560c121f795603b9a4e0963b40512dcd95ffc77102ad1efd07e3', extra_info=None, node_info={'start': 34004, 'end': 40608}, relationships={<DocumentRelationship.SOURCE: '1'>: '8039b99e-3053-45f5-87cb-9e43c3c00e09'}), score=0.734388169562764)], extra_info=None)"
            ]
          },
          "metadata": {},
          "execution_count": 9
        }
      ]
    },
    {
      "cell_type": "code",
      "source": [
        "index.query(\"次の問いに日本語で答えてください。単語で出力してください。\\n\\n誰が首位?\").response.strip()"
      ],
      "metadata": {
        "colab": {
          "base_uri": "https://localhost:8080/",
          "height": 36
        },
        "id": "WHAIlQSNVwLw",
        "outputId": "8a025c0d-2a69-47f9-e6aa-cd221dac9c05"
      },
      "execution_count": 10,
      "outputs": [
        {
          "output_type": "execute_result",
          "data": {
            "text/plain": [
              "'細野勇策が共同通信の首位にいる'"
            ],
            "application/vnd.google.colaboratory.intrinsic+json": {
              "type": "string"
            }
          },
          "metadata": {},
          "execution_count": 10
        }
      ]
    },
    {
      "cell_type": "code",
      "source": [
        "index.query(\"要約してください\").response.strip()"
      ],
      "metadata": {
        "colab": {
          "base_uri": "https://localhost:8080/",
          "height": 54
        },
        "id": "YA05_RtvV0Nz",
        "outputId": "67a926d2-08aa-45a9-f730-5263146ccb8a"
      },
      "execution_count": 11,
      "outputs": [
        {
          "output_type": "execute_result",
          "data": {
            "text/plain": [
              "'このウェブページは、20歳の細野勇策が東建ホームメイト・カップ第2日で16アンダー首位を獲得したことを報じる共同通信の記事です。共同通信のロゴ画像、サムネイル画像、および詳細な説明が含まれています。また、Twitterで共同通信をフォローすることもできます。'"
            ],
            "application/vnd.google.colaboratory.intrinsic+json": {
              "type": "string"
            }
          },
          "metadata": {},
          "execution_count": 11
        }
      ]
    },
    {
      "cell_type": "markdown",
      "source": [
        "## BeautifulSoupをつかって記事本文だけをインデックス\n",
        "\n",
        "こちらの方がhtmlタグなどのノイズが少ない。きれいな情報を取得でき、それを使った結果もよさそう。"
      ],
      "metadata": {
        "id": "TRtGqiUz8t6M"
      }
    },
    {
      "cell_type": "code",
      "source": [
        "!pip install -qU bs4"
      ],
      "metadata": {
        "id": "qs4m8uCY7vTp",
        "outputId": "2aa8cb76-0abb-4037-c66a-722aea4bca39",
        "colab": {
          "base_uri": "https://localhost:8080/"
        }
      },
      "execution_count": 12,
      "outputs": [
        {
          "output_type": "stream",
          "name": "stdout",
          "text": [
            "  Preparing metadata (setup.py) ... \u001b[?25l\u001b[?25hdone\n",
            "  Building wheel for bs4 (setup.py) ... \u001b[?25l\u001b[?25hdone\n"
          ]
        }
      ]
    },
    {
      "cell_type": "code",
      "source": [
        "from urllib import request\n",
        "from bs4 import BeautifulSoup\n",
        "\n",
        "url = 'https://nordot.app/1014495251956924416'\n",
        "\n",
        "url = article_urls[0]\n",
        "response = request.urlopen(url)\n",
        "soup = BeautifulSoup(response)\n",
        "response.close()"
      ],
      "metadata": {
        "id": "WRuCNerG7muH"
      },
      "execution_count": 13,
      "outputs": []
    },
    {
      "cell_type": "code",
      "source": [
        "text = soup.find('div', class_='main__articleBody').text.strip().replace('\\u3000', ' ')\n",
        "text"
      ],
      "metadata": {
        "colab": {
          "base_uri": "https://localhost:8080/",
          "height": 90
        },
        "id": "rl2LAk9S7uxp",
        "outputId": "032668f8-dc1f-411c-d381-31b5253f5dcf"
      },
      "execution_count": 14,
      "outputs": [
        {
          "output_type": "execute_result",
          "data": {
            "text/plain": [
              "'第2日、12番でアプローチショットを放つ細野勇策。通算16アンダーで首位＝東建多度CC名古屋 東建ホームメイト・カップ第2日（31日・三重県東建多度CC名古屋＝7062ヤード、パー71）20歳でツアー未勝利の細野勇策が3位から11バーディー、1ボギーの61をマークし、通算16アンダー、126で首位に立った。61は同コース開催での大会最少スコアを1打更新。4打差で前日首位の今平周吾が続いた。\\n 通算10アンダーの3位に64で回った田中裕基とマイケル・ヘンドリー（ニュージーランド）がつけ、さらに1打差で石川遼らが並んだ。金谷拓実は首位から71と伸ばせず7アンダーの12位に後退。昨年優勝の香妻陣一朗は3アンダーの50位。2アンダーまでの79人が決勝ラウンドに進んだ。'"
            ],
            "application/vnd.google.colaboratory.intrinsic+json": {
              "type": "string"
            }
          },
          "metadata": {},
          "execution_count": 14
        }
      ]
    },
    {
      "cell_type": "code",
      "source": [
        "from gpt_index import StringIterableReader, GPTTreeIndex\n",
        "\n",
        "documents = StringIterableReader().load_data([text])\n",
        "index = GPTSimpleVectorIndex.from_documents(documents)"
      ],
      "metadata": {
        "id": "MVt8yQnK8dyz"
      },
      "execution_count": 15,
      "outputs": []
    },
    {
      "cell_type": "code",
      "source": [
        "index.query(\"<question_text>?\")"
      ],
      "metadata": {
        "colab": {
          "base_uri": "https://localhost:8080/"
        },
        "id": "7mGvhGZn_hr0",
        "outputId": "6a9fef1b-ade2-419e-81a4-1d1abc5a4aa8"
      },
      "execution_count": 16,
      "outputs": [
        {
          "output_type": "execute_result",
          "data": {
            "text/plain": [
              "Response(response='\\n細野勇策は、第2日の試合で通算16アンダーで首位に立った。', source_nodes=[NodeWithScore(node=Node(text='第2日、12番でアプローチショットを放つ細野勇策。通算16アンダーで首位＝東建多度CC名古屋 東建ホームメイト・カップ第2日（31日・三重県東建多度CC名古屋＝7062ヤード、パー71）20歳でツアー未勝利の細野勇策が3位から11バーディー、1ボギーの61をマークし、通算16アンダー、126で首位に立った。61は同コース開催での大会最少スコアを1打更新。4打差で前日首位の今平周吾が続いた。\\n 通算10アンダーの3位に64で回った田中裕基とマイケル・ヘンドリー（ニュージーランド）がつけ、さらに1打差で石川遼らが並んだ。金谷拓実は首位から71と伸ばせず7アンダーの12位に後退。昨年優勝の香妻陣一朗は3アンダーの50位。2アンダーまでの79人が決勝ラウンドに進んだ。', doc_id='3e635d69-f9b8-43cf-96f8-c9014a38d59a', embedding=None, doc_hash='e28622816e464dca564852727a35e9fd913f41db896c4d57d83e345f1db0d079', extra_info=None, node_info={'start': 0, 'end': 334}, relationships={<DocumentRelationship.SOURCE: '1'>: '221be02d-ca90-45c3-8814-377c6d668877'}), score=0.6840493783111699)], extra_info=None)"
            ]
          },
          "metadata": {},
          "execution_count": 16
        }
      ]
    },
    {
      "cell_type": "code",
      "source": [
        "index.query(\"次の問いに日本語で答えてください。単語で出力してください。\\n\\n誰が首位ですか?\").response.strip()"
      ],
      "metadata": {
        "colab": {
          "base_uri": "https://localhost:8080/",
          "height": 36
        },
        "id": "ArcLpdEh7hhk",
        "outputId": "49e90fe0-331f-4d1b-f4c4-13da884a14d1"
      },
      "execution_count": 17,
      "outputs": [
        {
          "output_type": "execute_result",
          "data": {
            "text/plain": [
              "'細野勇策'"
            ],
            "application/vnd.google.colaboratory.intrinsic+json": {
              "type": "string"
            }
          },
          "metadata": {},
          "execution_count": 17
        }
      ]
    },
    {
      "cell_type": "code",
      "source": [
        "index.query(\"要約してください\").response.strip()"
      ],
      "metadata": {
        "colab": {
          "base_uri": "https://localhost:8080/",
          "height": 54
        },
        "id": "wPFWsSu_9E57",
        "outputId": "76b23417-aea3-4731-cf00-e55ea43ad025"
      },
      "execution_count": 18,
      "outputs": [
        {
          "output_type": "execute_result",
          "data": {
            "text/plain": [
              "'細野勇策が3位から11バーディー、1ボギーの61で通算16アンダー、126で首位に立ち、大会最少スコアを1打更新した。今平周吾が4打差で2位、田中裕基とマイケル・ヘンドリー（ニュージーランド）が3位、石川遼らが1打差で4位となり、金谷拓実は7アンダーの12位に後退した。香妻陣一朗は3アンダーの50位であり、2アンダーまでの79人が決勝ラウンドに進んだ。'"
            ],
            "application/vnd.google.colaboratory.intrinsic+json": {
              "type": "string"
            }
          },
          "metadata": {},
          "execution_count": 18
        }
      ]
    },
    {
      "cell_type": "markdown",
      "source": [
        "## 解答候補を抽出する"
      ],
      "metadata": {
        "id": "fqHn13k3Wmr0"
      }
    },
    {
      "cell_type": "code",
      "source": [
        "!pip install -qU spacy ja_ginza"
      ],
      "metadata": {
        "id": "4yHU73PbWoyk",
        "outputId": "e991213e-e6dc-496c-b16c-88fa5a8dc39b",
        "colab": {
          "base_uri": "https://localhost:8080/"
        }
      },
      "execution_count": 19,
      "outputs": [
        {
          "output_type": "stream",
          "name": "stdout",
          "text": [
            "\u001b[2K     \u001b[90m━━━━━━━━━━━━━━━━━━━━━━━━━━━━━━━━━━━━━━━━\u001b[0m \u001b[32m59.1/59.1 MB\u001b[0m \u001b[31m18.9 MB/s\u001b[0m eta \u001b[36m0:00:00\u001b[0m\n",
            "\u001b[?25h  Preparing metadata (setup.py) ... \u001b[?25l\u001b[?25hdone\n",
            "\u001b[2K     \u001b[90m━━━━━━━━━━━━━━━━━━━━━━━━━━━━━━━━━━━━━━━━\u001b[0m \u001b[32m6.5/6.5 MB\u001b[0m \u001b[31m103.0 MB/s\u001b[0m eta \u001b[36m0:00:00\u001b[0m\n",
            "\u001b[2K     \u001b[90m━━━━━━━━━━━━━━━━━━━━━━━━━━━━━━━━━━━━━━━━\u001b[0m \u001b[32m2.2/2.2 MB\u001b[0m \u001b[31m90.5 MB/s\u001b[0m eta \u001b[36m0:00:00\u001b[0m\n",
            "\u001b[?25h  Building wheel for sudachidict-core (setup.py) ... \u001b[?25l\u001b[?25hdone\n",
            "\u001b[31mERROR: pip's dependency resolver does not currently take into account all the packages that are installed. This behaviour is the source of the following dependency conflicts.\n",
            "en-core-web-sm 3.5.0 requires spacy<3.6.0,>=3.5.0, but you have spacy 3.4.4 which is incompatible.\u001b[0m\u001b[31m\n",
            "\u001b[0m"
          ]
        }
      ]
    },
    {
      "cell_type": "code",
      "source": [
        "import spacy\n",
        "\n",
        "nlp=spacy.load('ja_ginza')"
      ],
      "metadata": {
        "id": "1o7Gqj_DW3n4",
        "outputId": "06283a16-c57f-4c2d-d2d3-c168d235b599",
        "colab": {
          "base_uri": "https://localhost:8080/"
        }
      },
      "execution_count": 20,
      "outputs": [
        {
          "output_type": "stream",
          "name": "stderr",
          "text": [
            "/usr/local/lib/python3.9/dist-packages/torch/cuda/__init__.py:497: UserWarning: Can't initialize NVML\n",
            "  warnings.warn(\"Can't initialize NVML\")\n"
          ]
        }
      ]
    },
    {
      "cell_type": "code",
      "source": [
        "summary_text = index.query(\"要約してください\").response.strip()  # 本来は、記事そのままでよいだろう"
      ],
      "metadata": {
        "id": "s5xgP_SXb_x_"
      },
      "execution_count": 21,
      "outputs": []
    },
    {
      "cell_type": "code",
      "source": [
        "doc = nlp(summary_text)\n",
        "doc"
      ],
      "metadata": {
        "colab": {
          "base_uri": "https://localhost:8080/"
        },
        "id": "nKU5wU9CWq1V",
        "outputId": "fa17f7e7-e1cd-429c-ce91-65856e533359"
      },
      "execution_count": 22,
      "outputs": [
        {
          "output_type": "execute_result",
          "data": {
            "text/plain": [
              "細野勇策が3位から11バーディー、1ボギーの61で通算16アンダー、126で首位に立ち、大会最少スコアを1打更新した。田中裕基とマイケル・ヘンドリーが3位につけ、石川遼らが1打差で並んだ。金谷拓実は7アンダーの12位に後退し、香妻陣一朗は3アンダーの50位であった。79人が2アンダーまでで決勝ラウンドに進んだ。"
            ]
          },
          "metadata": {},
          "execution_count": 22
        }
      ]
    },
    {
      "cell_type": "code",
      "source": [
        "[ (e.text, e.label_) for e in doc.ents ]"
      ],
      "metadata": {
        "colab": {
          "base_uri": "https://localhost:8080/"
        },
        "id": "cifgNKOHXRiR",
        "outputId": "a2a5c357-b160-4a94-9437-53124e87dfae"
      },
      "execution_count": 23,
      "outputs": [
        {
          "output_type": "execute_result",
          "data": {
            "text/plain": [
              "[('細野勇策', 'Person'),\n",
              " ('3位', 'Rank'),\n",
              " ('11バーディー', 'N_Organization'),\n",
              " ('1ボギー', 'Period_Day'),\n",
              " ('61', 'Numex_Other'),\n",
              " ('16アンダー', 'N_Product'),\n",
              " ('126', 'Numex_Other'),\n",
              " ('首位', 'Rank'),\n",
              " ('1打', 'N_Event'),\n",
              " ('田中裕基', 'Person'),\n",
              " ('マイケル・ヘンドリー', 'Person'),\n",
              " ('3位', 'Rank'),\n",
              " ('石川遼', 'Person'),\n",
              " ('1打', 'N_Event'),\n",
              " ('金谷拓実', 'Person'),\n",
              " ('7アンダー', 'N_Product'),\n",
              " ('12位', 'Rank'),\n",
              " ('香妻', 'Person'),\n",
              " ('3アンダー', 'N_Product'),\n",
              " ('50位', 'Rank'),\n",
              " ('79人', 'N_Person'),\n",
              " ('2アンダー', 'N_Product')]"
            ]
          },
          "metadata": {},
          "execution_count": 23
        }
      ]
    },
    {
      "cell_type": "markdown",
      "source": [
        "## 関連情報を得る\n",
        "\n",
        "ひとまず Wikipedia 日本語版の記事サマリーを用いる。ある解答候補について関連情報を得たら、そちらに基づいて質問を生成してもよい。\n",
        "\n",
        "- [PythonでWikipediaの情報を取得する | 分析ノート](https://analytics-note.xyz/programming/python-wikipedia/)\n",
        "- [wikipedia · PyPI](https://pypi.org/project/wikipedia/)"
      ],
      "metadata": {
        "id": "uW1APUjXbHWj"
      }
    },
    {
      "cell_type": "code",
      "source": [
        "import wikipedia\n",
        "wikipedia.set_lang(\"ja\")"
      ],
      "metadata": {
        "id": "tAVxbphOXitJ"
      },
      "execution_count": 24,
      "outputs": []
    },
    {
      "cell_type": "code",
      "source": [
        "for e in doc.ents:\n",
        "  if e.label_ in ['Person', 'Company', 'Country']:\n",
        "    print( e.text,  wikipedia.search(e.text, results=3))"
      ],
      "metadata": {
        "colab": {
          "base_uri": "https://localhost:8080/"
        },
        "id": "gW3PeRiicWrq",
        "outputId": "3a022443-a5ef-4634-cbc9-1808711950cc"
      },
      "execution_count": 25,
      "outputs": [
        {
          "output_type": "stream",
          "name": "stdout",
          "text": [
            "細野勇策 ['さすがの猿飛', '日本の写真家一覧', '岐阜県立岐阜高等学校']\n",
            "田中裕基 ['Over The Top (バンド)', '田中裕子', '田中裕二 (お笑い芸人)']\n",
            "マイケル・ヘンドリー ['マイケル・ジャクソン', 'ジミ・ヘンドリックス', 'マイケル・ランドウ']\n",
            "石川遼 ['石川遼', '石川遼スペシャル RESPECT 〜ゴルフを愛する人々へ〜', 'ゴルフ日本シリーズ']\n",
            "金谷拓実 ['金谷拓実', 'インターナショナル・マネジメント・グループ', 'ダンロップフェニックストーナメント']\n",
            "香妻 ['香妻琴乃', '香妻陣一朗', 'ゴルファー一覧']\n"
          ]
        }
      ]
    },
    {
      "cell_type": "markdown",
      "source": [
        "「さすがの猿飛」は細野不二彦。おそらく間違い。"
      ],
      "metadata": {
        "id": "hI88NVrVsICO"
      }
    },
    {
      "cell_type": "code",
      "source": [
        "rel_urls = []\n",
        "for e in doc.ents:\n",
        "  if e.label_ in ['Person', 'Company', 'Country']:\n",
        "    wp_ents = wikipedia.search(e.text, results=3)\n",
        "    for wp in wp_ents:\n",
        "      wp_page = wikipedia.page(wp)\n",
        "      if e.text in wp_page.summary: # wp_page.contentでもよいが分量を懸念\n",
        "        rel_urls.append(wp_page.summary)\n",
        "\n",
        "rel_urls"
      ],
      "metadata": {
        "id": "yZLci4IjYEiO",
        "colab": {
          "base_uri": "https://localhost:8080/"
        },
        "outputId": "b26c5ad1-65ea-449b-9e4e-58f6cd818237"
      },
      "execution_count": 26,
      "outputs": [
        {
          "output_type": "execute_result",
          "data": {
            "text/plain": [
              "['『石川遼スペシャル RESPECT 〜ゴルフを愛する人々へ〜』（いしかわりょうスペシャル リスペクト ゴルフをあいするひとびとへ）は、2010年4月4日から2012年3月31日まで、テレビ東京系列で放送されていたゴルフトーク番組。石川遼の冠番組。\\n\\n',\n",
              " '香妻 琴乃（こうづま ことの、1992年4月17日 - ）は、日本の女子プロゴルファー。鹿児島県鹿屋市出身。サマンサタバサ所属。',\n",
              " '香妻 陣一郎（こうづま じんいちろう、1994年7月7日 - ）は、日本のプロゴルファー。鹿児島県鹿屋市出身、身長165cm、日章学園高校卒業、国際スポーツ振興協会所属。妻はモデルの武井玲奈。姉は女子プロゴルファーの香妻琴乃。']"
            ]
          },
          "metadata": {},
          "execution_count": 26
        }
      ]
    },
    {
      "cell_type": "code",
      "source": [
        "if False:\n",
        "  documents_rel = SimpleWebPageReader().load_data(rel_urls)\n",
        "  index_rel = GPTSimpleVectorIndex.from_documents(documents_rel)"
      ],
      "metadata": {
        "id": "lIpYq-MZaF2s"
      },
      "execution_count": 27,
      "outputs": []
    },
    {
      "cell_type": "code",
      "source": [
        "from gpt_index import StringIterableReader, GPTTreeIndex\n",
        "\n",
        "documents_rel = StringIterableReader().load_data(rel_urls)\n",
        "index_rel = GPTSimpleVectorIndex.from_documents(documents_rel)"
      ],
      "metadata": {
        "id": "GTahS5Z3uBgi"
      },
      "execution_count": 28,
      "outputs": []
    },
    {
      "cell_type": "markdown",
      "source": [
        "## 質問生成 四択問題"
      ],
      "metadata": {
        "id": "onxoc7rZcpw_"
      }
    },
    {
      "cell_type": "code",
      "source": [
        "index.query(\"あなたは有能なクイズ作家です。細野勇作が正解になる四択クイズを作ってください。\").response.strip()  # 実は名前を間違い"
      ],
      "metadata": {
        "colab": {
          "base_uri": "https://localhost:8080/",
          "height": 36
        },
        "id": "2AoF-y7myW6X",
        "outputId": "a7cca8c7-a292-4ddb-ba25-ac7a0020f3be"
      },
      "execution_count": 36,
      "outputs": [
        {
          "output_type": "execute_result",
          "data": {
            "text/plain": [
              "'Q. 第2日の大会で首位に立ったのは誰でしたか？\\nA. 1. 今平周吾  2. 細野勇策  3. 田中裕基  4. マイケル・ヘンドリー'"
            ],
            "application/vnd.google.colaboratory.intrinsic+json": {
              "type": "string"
            }
          },
          "metadata": {},
          "execution_count": 36
        }
      ]
    },
    {
      "cell_type": "code",
      "source": [
        "index.query(\"あなたは有能なクイズ作家です。細野勇策が正解になる四択クイズを作ってください。\").response.strip() "
      ],
      "metadata": {
        "id": "b1kEEKKsPgLC",
        "outputId": "4e3a1109-90a1-4fd0-bad6-899d60d2f9bb",
        "colab": {
          "base_uri": "https://localhost:8080/",
          "height": 36
        }
      },
      "execution_count": 38,
      "outputs": [
        {
          "output_type": "execute_result",
          "data": {
            "text/plain": [
              "'Q. 細野勇策は、東建多度CC名古屋で開催された東建ホームメイト・カップ第2日で何をマークしましたか？\\nA. \\nA. 61\\nB. 64\\nC. 71\\nD. 126'"
            ],
            "application/vnd.google.colaboratory.intrinsic+json": {
              "type": "string"
            }
          },
          "metadata": {},
          "execution_count": 38
        }
      ]
    },
    {
      "cell_type": "code",
      "source": [
        "index.query(\"あなたは有能なクイズ作家です。細野勇策が正解になる四択クイズを作ってください。3つ作ってください\").response.strip()"
      ],
      "metadata": {
        "colab": {
          "base_uri": "https://localhost:8080/",
          "height": 54
        },
        "id": "4GqRlJpSajOm",
        "outputId": "5e38ae0a-d380-4643-908e-bfec00d2e01e"
      },
      "execution_count": 34,
      "outputs": [
        {
          "output_type": "execute_result",
          "data": {
            "text/plain": [
              "'1. 細野勇策は、東建多度CC名古屋で開催された東建ホームメイト・カップ第2日で何スコアをマークしましたか？\\nA. 59\\nB. 61\\nC. 63\\nD. 65\\n\\n2. 細野勇策は、東建多度CC名古屋で開催された東建ホームメイト・カップ第2日で何位になりましたか？\\nA. 1位\\nB. 2位\\nC. 3位\\nD. 4位\\n\\n3. 細野勇策は、東建多度CC名古屋で開催された東建ホームメイト・カップ第2'"
            ],
            "application/vnd.google.colaboratory.intrinsic+json": {
              "type": "string"
            }
          },
          "metadata": {},
          "execution_count": 34
        }
      ]
    },
    {
      "cell_type": "markdown",
      "source": [
        "生成内容の指定が不十分"
      ],
      "metadata": {
        "id": "pT_x3Rd0QsOe"
      }
    },
    {
      "cell_type": "markdown",
      "source": [
        "## 検証: 質問＋各選択肢が成立するか\n",
        "\n",
        "正例負例それぞれで成立不成立を問い直す"
      ],
      "metadata": {
        "id": "0Xx_qGYocsHa"
      }
    },
    {
      "cell_type": "code",
      "source": [
        "query = \"\"\"あなたは有能なクイズ作家です。次の質問と回答のペアは適切ですか。YES/NOで答えてください。\n",
        "\n",
        "質問: 細野勇策が通算16アンダー首位となったのはどこで行われたゴルフ大会でしたか？\n",
        "回答: 東建ホームメイト・カップ\n",
        "\"\"\""
      ],
      "metadata": {
        "id": "-f1SOAGDeqZc"
      },
      "execution_count": 31,
      "outputs": []
    },
    {
      "cell_type": "code",
      "source": [
        "index.query(query).response.strip()"
      ],
      "metadata": {
        "colab": {
          "base_uri": "https://localhost:8080/",
          "height": 36
        },
        "id": "SIJC6Fq_ef8M",
        "outputId": "064eec21-aa78-4059-d26f-a59be003bb34"
      },
      "execution_count": 32,
      "outputs": [
        {
          "output_type": "execute_result",
          "data": {
            "text/plain": [
              "'YES'"
            ],
            "application/vnd.google.colaboratory.intrinsic+json": {
              "type": "string"
            }
          },
          "metadata": {},
          "execution_count": 32
        }
      ]
    },
    {
      "cell_type": "code",
      "source": [
        "query_template = \"\"\"あなたは有能なクイズ作家です。次の質問と回答のペアは適切ですか。YES/NOで答えてください。\n",
        "\n",
        "\n",
        "質問: {question}\n",
        "回答: {answer}\n",
        "\"\"\""
      ],
      "metadata": {
        "id": "RiEG3x8EP2Ey"
      },
      "execution_count": 39,
      "outputs": []
    },
    {
      "cell_type": "code",
      "source": [
        "question = \"第2日の大会で首位に立ったのは誰でしたか？\"\n",
        "answer = \"今平周吾\"\n",
        "#answer = \"細野勇策\"\n",
        "#answer = \"田中裕基\"\n",
        "#answer = \"マイケル・ヘンドリー\"\n",
        "\n",
        "query = query_template.format(question=question, answer=answer)\n",
        "index.query(query).response.strip()"
      ],
      "metadata": {
        "id": "ZGLv5WAGQIWa",
        "outputId": "ed7ecc92-08e5-443a-d6d1-9f7477170912",
        "colab": {
          "base_uri": "https://localhost:8080/",
          "height": 36
        }
      },
      "execution_count": 45,
      "outputs": [
        {
          "output_type": "execute_result",
          "data": {
            "text/plain": [
              "'No. The correct answer is 細野勇策.'"
            ],
            "application/vnd.google.colaboratory.intrinsic+json": {
              "type": "string"
            }
          },
          "metadata": {},
          "execution_count": 45
        }
      ]
    },
    {
      "cell_type": "code",
      "source": [
        "question = \"第2日の大会で首位に立ったのは誰でしたか？\"\n",
        "answer = \"今平周吾\"\n",
        "answer = \"細野勇策\"\n",
        "#answer = \"田中裕基\"\n",
        "#answer = \"マイケル・ヘンドリー\"\n",
        "\n",
        "query = query_template.format(question=question, answer=answer)\n",
        "index.query(query).response.strip()"
      ],
      "metadata": {
        "id": "1zlU74kTQZHv",
        "outputId": "b05111c2-aaf7-4d23-fa6d-7fd3de97327a",
        "colab": {
          "base_uri": "https://localhost:8080/",
          "height": 36
        }
      },
      "execution_count": 42,
      "outputs": [
        {
          "output_type": "execute_result",
          "data": {
            "text/plain": [
              "'YES'"
            ],
            "application/vnd.google.colaboratory.intrinsic+json": {
              "type": "string"
            }
          },
          "metadata": {},
          "execution_count": 42
        }
      ]
    },
    {
      "cell_type": "code",
      "source": [
        "question = \"第2日の大会で首位に立ったのは誰でしたか？\"\n",
        "answer = \"今平周吾\"\n",
        "answer = \"細野勇策\"\n",
        "answer = \"田中裕基\"\n",
        "#answer = \"マイケル・ヘンドリー\"\n",
        "\n",
        "query = query_template.format(question=question, answer=answer)\n",
        "index.query(query).response.strip()"
      ],
      "metadata": {
        "id": "kV68elpqQZQZ",
        "outputId": "89b86857-ad00-43a2-b355-4354fd3dd34e",
        "colab": {
          "base_uri": "https://localhost:8080/",
          "height": 36
        }
      },
      "execution_count": 43,
      "outputs": [
        {
          "output_type": "execute_result",
          "data": {
            "text/plain": [
              "'No'"
            ],
            "application/vnd.google.colaboratory.intrinsic+json": {
              "type": "string"
            }
          },
          "metadata": {},
          "execution_count": 43
        }
      ]
    },
    {
      "cell_type": "code",
      "source": [
        "question = \"第2日の大会で首位に立ったのは誰でしたか？\"\n",
        "answer = \"今平周吾\"\n",
        "answer = \"細野勇策\"\n",
        "answer = \"田中裕基\"\n",
        "answer = \"マイケル・ヘンドリー\"\n",
        "\n",
        "query = query_template.format(question=question, answer=answer)\n",
        "index.query(query).response.strip()"
      ],
      "metadata": {
        "id": "C0-OGDUxQiIK",
        "outputId": "9f2afa72-b41a-4639-f03d-5dce83bb1ee6",
        "colab": {
          "base_uri": "https://localhost:8080/",
          "height": 36
        }
      },
      "execution_count": 44,
      "outputs": [
        {
          "output_type": "execute_result",
          "data": {
            "text/plain": [
              "'No. 第2日の大会で首位に立ったのは細野勇策でした。'"
            ],
            "application/vnd.google.colaboratory.intrinsic+json": {
              "type": "string"
            }
          },
          "metadata": {},
          "execution_count": 44
        }
      ]
    },
    {
      "cell_type": "markdown",
      "source": [
        "## 導入文の生成"
      ],
      "metadata": {
        "id": "CSyOYWRjc39a"
      }
    },
    {
      "cell_type": "code",
      "source": [
        "query_template = \"\"\"あなたは有能なクイズ作家です。次の質問と回答のペアに対して、クイズとして適切な導入文を付与してください。導入文には、質問の内容を含みません。導入文は疑問文ではありません。導入文には、解答の内容を含みません。 5つ、作成してください。\n",
        "\n",
        "質問: {question}\n",
        "回答: {answer}\n",
        "\"\"\""
      ],
      "metadata": {
        "id": "kMF-1eGWfF3d"
      },
      "execution_count": 46,
      "outputs": []
    },
    {
      "cell_type": "code",
      "source": [
        "question = \"細野勇策が通算16アンダー首位となったのはどこで行われたゴルフ大会でしたか？\"\n",
        "answer = \"東建ホームメイト・カップ\""
      ],
      "metadata": {
        "id": "wa4NvEJvqGoy"
      },
      "execution_count": 47,
      "outputs": []
    },
    {
      "cell_type": "code",
      "source": [
        "query = query_template.format(question=question, answer=answer)\n",
        "\n",
        "query"
      ],
      "metadata": {
        "colab": {
          "base_uri": "https://localhost:8080/",
          "height": 54
        },
        "id": "wR2YeCuwpnzf",
        "outputId": "0ebfec8c-6fcf-44a5-9700-322f12bde766"
      },
      "execution_count": 48,
      "outputs": [
        {
          "output_type": "execute_result",
          "data": {
            "text/plain": [
              "'あなたは有能なクイズ作家です。次の質問と回答のペアに対して、クイズとして適切な導入文を付与してください。導入文には、質問の内容を含みません。導入文は疑問文ではありません。導入文には、解答の内容を含みません。 5つ、作成してください。\\n\\n質問: 細野勇策が通算16アンダー首位となったのはどこで行われたゴルフ大会でしたか？\\n回答: 東建ホームメイト・カップ\\n'"
            ],
            "application/vnd.google.colaboratory.intrinsic+json": {
              "type": "string"
            }
          },
          "metadata": {},
          "execution_count": 48
        }
      ]
    },
    {
      "cell_type": "code",
      "source": [
        "index.query(query).response.strip().replace('\\n','')"
      ],
      "metadata": {
        "colab": {
          "base_uri": "https://localhost:8080/",
          "height": 54
        },
        "id": "O1Y84jFpfYTG",
        "outputId": "d1dd1339-f0ac-4535-fc39-484e1eb7c3e5"
      },
      "execution_count": 49,
      "outputs": [
        {
          "output_type": "execute_result",
          "data": {
            "text/plain": [
              "'1. 東建ホームメイト・カップで細野勇策が通算16アンダー首位となりました。2. 細野勇策が通算16アンダーで首位を獲得したのは、東建ホームメイト・カップでした。3. 東建ホームメイト・カップで細野勇策が通算16アンダーで首位を獲得しました。4. 細野勇策が東建ホームメイト・カップで通算16アンダーで首位を獲得しました。5. 東建ホームメイト・カップで細野勇'"
            ],
            "application/vnd.google.colaboratory.intrinsic+json": {
              "type": "string"
            }
          },
          "metadata": {},
          "execution_count": 49
        }
      ]
    },
    {
      "cell_type": "code",
      "source": [
        "index_rel.query(query).response.strip().replace('\\n','')"
      ],
      "metadata": {
        "colab": {
          "base_uri": "https://localhost:8080/",
          "height": 54
        },
        "id": "vBxk5YYvwerG",
        "outputId": "3c34852d-b15f-49bd-936f-f68fe57aae17"
      },
      "execution_count": 50,
      "outputs": [
        {
          "output_type": "execute_result",
          "data": {
            "text/plain": [
              "'1. 細野勇策がゴルフ大会で何を達成したのかご存知ですか？2. 東建ホームメイト・カップで細野勇策が何を達成したのかご存知ですか？3. 細野勇策がゴルフ大会で何を達成したと話題になっていますか？4. 細野勇策がゴルフ大会で何を達成したのか、ご存知ですか？5. 細野勇策がゴルフ大会で何を達成したのか、ご存じですか？'"
            ],
            "application/vnd.google.colaboratory.intrinsic+json": {
              "type": "string"
            }
          },
          "metadata": {},
          "execution_count": 50
        }
      ]
    },
    {
      "cell_type": "markdown",
      "source": [
        "## 導入文と質問・解答をペアにしてすわりがよいかを評価\n",
        "## クイズの難しさの評価\n",
        "## クイズとしての面白さの評価\n",
        "\n",
        "\n",
        "TBD"
      ],
      "metadata": {
        "id": "mQhdArW4BrkM"
      }
    },
    {
      "cell_type": "markdown",
      "source": [],
      "metadata": {
        "id": "vAEgsS1cQ-TH"
      }
    },
    {
      "cell_type": "code",
      "source": [
        "query_template = \"\"\"あなたは有能なクイズ作家です。次の質問と回答のペアの難しさを1から5までの5段階で評価してください。簡単であれば1を、難しければ5を出力してください。\n",
        "\n",
        "\n",
        "質問: {question}\n",
        "回答: {answer}\n",
        "\"\"\""
      ],
      "metadata": {
        "id": "f94megYkQ-jb"
      },
      "execution_count": 51,
      "outputs": []
    },
    {
      "cell_type": "code",
      "source": [
        "question = \"第2日の大会で首位に立ったのは誰でしたか？\"\n",
        "answer = \"今平周吾\"\n",
        "answer = \"細野勇策\"\n",
        "#answer = \"田中裕基\"\n",
        "#answer = \"マイケル・ヘンドリー\"\n",
        "\n",
        "query = query_template.format(question=question, answer=answer)\n",
        "index.query(query).response.strip()"
      ],
      "metadata": {
        "id": "waE60abrRBp2",
        "outputId": "08024232-29c1-4ef7-c347-13b7bfc66040",
        "colab": {
          "base_uri": "https://localhost:8080/",
          "height": 36
        }
      },
      "execution_count": 52,
      "outputs": [
        {
          "output_type": "execute_result",
          "data": {
            "text/plain": [
              "'1'"
            ],
            "application/vnd.google.colaboratory.intrinsic+json": {
              "type": "string"
            }
          },
          "metadata": {},
          "execution_count": 52
        }
      ]
    },
    {
      "cell_type": "code",
      "source": [
        "query = \"\"\"あなたは有能なクイズ作家です。細野勇策を解答とする、難しさ5の四択クイズを作ってください。難しさは1から5までの5段階です。簡単であれば1を、難しければ5です。\n",
        "\"\"\"\n",
        "index.query(query).response.strip()"
      ],
      "metadata": {
        "id": "AYWtGYZkRZuE",
        "outputId": "b2e4a005-6703-427e-abfd-e5652f145b64",
        "colab": {
          "base_uri": "https://localhost:8080/",
          "height": 36
        }
      },
      "execution_count": 53,
      "outputs": [
        {
          "output_type": "execute_result",
          "data": {
            "text/plain": [
              "'Q. 細野勇策は、東建多度CC名古屋で開催された東建ホームメイト・カップ第2日で何スコアをマークしましたか？\\n\\nA. 1. 68\\n2. 69\\n3. 61\\n4. 62'"
            ],
            "application/vnd.google.colaboratory.intrinsic+json": {
              "type": "string"
            }
          },
          "metadata": {},
          "execution_count": 53
        }
      ]
    },
    {
      "cell_type": "code",
      "source": [
        "query = \"\"\"あなたは有能なクイズ作家です。細野勇策を解答とする、難しさ1の四択クイズを作ってください。難しさは1から5までの5段階です。簡単であれば1を、難しければ5です。\n",
        "\"\"\"\n",
        "index.query(query).response.strip()"
      ],
      "metadata": {
        "id": "Zgxg8l1pR3G1",
        "outputId": "8db1417e-30f5-4d21-e5fa-e473eb8ba5eb",
        "colab": {
          "base_uri": "https://localhost:8080/",
          "height": 36
        }
      },
      "execution_count": 54,
      "outputs": [
        {
          "output_type": "execute_result",
          "data": {
            "text/plain": [
              "'Q. 細野勇策は、東建多度CC名古屋で開催された東建ホームメイト・カップ第2日で何スコアをマークしましたか？\\n\\nA. \\nA. 61\\nB. 64\\nC. 71\\nD. 79'"
            ],
            "application/vnd.google.colaboratory.intrinsic+json": {
              "type": "string"
            }
          },
          "metadata": {},
          "execution_count": 54
        }
      ]
    },
    {
      "cell_type": "code",
      "source": [
        "query = \"\"\"あなたは有能なクイズ作家です。細野勇策を解答とする、難しさ3の四択クイズを作ってください。難しさは1から5までの5段階です。簡単であれば1を、難しければ5です。\n",
        "\"\"\"\n",
        "index.query(query).response.strip()"
      ],
      "metadata": {
        "id": "kHA5mNkMR7LE",
        "outputId": "2eb1bf09-a627-4122-fbd1-986f051f6bcf",
        "colab": {
          "base_uri": "https://localhost:8080/",
          "height": 36
        }
      },
      "execution_count": 55,
      "outputs": [
        {
          "output_type": "execute_result",
          "data": {
            "text/plain": [
              "'Q. 細野勇策は、東建多度CC名古屋で開催された東建ホームメイト・カップ第2日で何スコアをマークしましたか？\\nA. \\nA. 61\\nB. 64\\nC. 71\\nD. 79'"
            ],
            "application/vnd.google.colaboratory.intrinsic+json": {
              "type": "string"
            }
          },
          "metadata": {},
          "execution_count": 55
        }
      ]
    },
    {
      "cell_type": "markdown",
      "source": [
        "クイズの難しさについて、何か言えているわけではなさそう。いくつか例示が必要なのだろう。"
      ],
      "metadata": {
        "id": "irZe_hQgSCr5"
      }
    },
    {
      "cell_type": "markdown",
      "source": [
        "あとは、マルチホップが必要な質問を作れるか？その確認のためにマルチホップQAができるか。どちらもステップバイステップのCoT(Chain of Thoughts)でなんとかならないか?"
      ],
      "metadata": {
        "id": "4EPdxck3SMnK"
      }
    },
    {
      "cell_type": "markdown",
      "source": [
        "----\n"
      ],
      "metadata": {
        "id": "0UPaoBxx-Qf8"
      }
    },
    {
      "cell_type": "code",
      "source": [
        "index.query(\"\"\"あなたはプロのクイズ作家です。特に四択問題を作ることを得意としています。 以下のテーマでクイズを作ってください。\n",
        "\n",
        "テーマ：ボーイング737MAX\"\"\").response.strip()"
      ],
      "metadata": {
        "colab": {
          "base_uri": "https://localhost:8080/",
          "height": 36
        },
        "id": "6zMKtP2AbUJJ",
        "outputId": "bea99c3b-b895-450d-d807-fe9a25921db0"
      },
      "execution_count": null,
      "outputs": [
        {
          "output_type": "execute_result",
          "data": {
            "text/plain": [
              "'Q. ボーイング737MAXは何番目の737シリーズですか？\\n\\nA. ボーイング737MAXは737シリーズの9番目です。'"
            ],
            "application/vnd.google.colaboratory.intrinsic+json": {
              "type": "string"
            }
          },
          "metadata": {},
          "execution_count": 272
        }
      ]
    },
    {
      "cell_type": "code",
      "source": [
        "index.query(\"\"\"あなたはプロのクイズ作家です。特に四択問題を作ることを得意としています。 以下のテーマで四択クイズを作ってください。\n",
        "\n",
        "テーマ：細野勇策\"\"\").response.strip()"
      ],
      "metadata": {
        "colab": {
          "base_uri": "https://localhost:8080/",
          "height": 36
        },
        "id": "EoxXOxsenCTd",
        "outputId": "433b9a2e-eb1d-4711-c747-070ee040fa60"
      },
      "execution_count": null,
      "outputs": [
        {
          "output_type": "execute_result",
          "data": {
            "text/plain": [
              "'Q. 細野勇策が通算16アンダー首位を獲得したのはどこでしたか？\\n\\nA. 東建ホームメイト・カップ第2日（31日・三重県東建多度CC名古屋＝7062ヤード、パー71）'"
            ],
            "application/vnd.google.colaboratory.intrinsic+json": {
              "type": "string"
            }
          },
          "metadata": {},
          "execution_count": 139
        }
      ]
    },
    {
      "cell_type": "code",
      "source": [
        "index.query(\"\"\"あなたはプロのクイズ作家です。特に四択問題を作ることを得意としています。 以下のテーマで四択クイズを作ってください。\n",
        "\n",
        "テーマ：東建\"\"\").response.strip()"
      ],
      "metadata": {
        "colab": {
          "base_uri": "https://localhost:8080/",
          "height": 54
        },
        "id": "vCUz12eZnUiT",
        "outputId": "756b915c-409b-49a0-aff0-cc065ba96cb5"
      },
      "execution_count": null,
      "outputs": [
        {
          "output_type": "execute_result",
          "data": {
            "text/plain": [
              "'Q. 東建ホームメイト・カップ第2日（31日・三重県東建多度CC名古屋＝7062ヤード、パー71）で首位を獲得したのは誰でしたか？\\n\\nA. 共同通信が報じたところによると、細野勇策が東建ホームメイト・カップ第2日（31日・三重県東建多度CC名古屋＝7062ヤード、パー71）で首位を獲得したとのことです。'"
            ],
            "application/vnd.google.colaboratory.intrinsic+json": {
              "type": "string"
            }
          },
          "metadata": {},
          "execution_count": 140
        }
      ]
    },
    {
      "cell_type": "code",
      "source": [
        "index.query(\"\"\"あなたはプロのクイズ作家です。特に四択問題を作ることを得意としています。 以下のテーマで四択クイズを作ってください。3つ作ってください。\n",
        "\n",
        "テーマ：東建\"\"\").response.strip()"
      ],
      "metadata": {
        "colab": {
          "base_uri": "https://localhost:8080/",
          "height": 54
        },
        "id": "qO8hwOSsncqH",
        "outputId": "22dd1e3f-863b-44ee-8c0e-2b67f1f89452"
      },
      "execution_count": null,
      "outputs": [
        {
          "output_type": "execute_result",
          "data": {
            "text/plain": [
              "'1. 東建ホームメイト・カップはどこで開催されましたか？\\nA. 東京\\nB. 三重県東建多度CC名古屋\\nC. 大阪\\nD. 北海道\\n\\n2. 東建ホームメイト・カップの第2日で、細野勇策が通算何アンダーで首位になりましたか？\\nA. 10アンダー\\nB. 12アンダー\\nC. 14アンダー\\nD. 16アンダー\\n\\n3. 東建ホームメイト・カップの第2日で、細野勇策が首位になった時の年齢は何歳でしたか？'"
            ],
            "application/vnd.google.colaboratory.intrinsic+json": {
              "type": "string"
            }
          },
          "metadata": {},
          "execution_count": 216
        }
      ]
    },
    {
      "cell_type": "code",
      "source": [
        "index_rel.query(\"\"\"あなたはプロのクイズ作家です。特に四択問題を作ることを得意としています。 以下のテーマで四択クイズを作ってください。3つ作ってください。\n",
        "\n",
        "テーマ：東建\"\"\").response.strip()"
      ],
      "metadata": {
        "colab": {
          "base_uri": "https://localhost:8080/",
          "height": 54
        },
        "id": "93o6IV6t61C9",
        "outputId": "04ac506e-5465-4896-98d1-d79a09847ef0"
      },
      "execution_count": null,
      "outputs": [
        {
          "output_type": "execute_result",
          "data": {
            "text/plain": [
              "'1. 東建ホームメイトカップは何月に開催されるか？\\nA. 1月\\nB. 2月\\nC. 3月\\nD. 4月\\n\\n2. 東建ホームメイトカップは何のトーナメントであるか？\\nA. テニス\\nB. バスケットボール\\nC. バレーボール\\nD. ゴルフ\\n\\n3. 東建ホームメイトカップは誰が主催しているか？\\nA. 日本ゴルフツアー\\nB. 東建コーポレーション\\nC. 日本テニス協会\\nD. 日本バスケットボール協会'"
            ],
            "application/vnd.google.colaboratory.intrinsic+json": {
              "type": "string"
            }
          },
          "metadata": {},
          "execution_count": 217
        }
      ]
    },
    {
      "cell_type": "code",
      "source": [],
      "metadata": {
        "id": "l8oncZBCm6Gt"
      },
      "execution_count": null,
      "outputs": []
    },
    {
      "cell_type": "markdown",
      "source": [
        "あなたはプロのクイズ作家です。特に四択問題を作ることを得意としています。\n",
        "以下のテーマでクイズを作ってください。\n",
        "\n",
        "テーマ：ボーイング737MAX\n",
        "\n"
      ],
      "metadata": {
        "id": "-vyiBBq2kp-4"
      }
    },
    {
      "cell_type": "markdown",
      "source": [
        "ボーイング737MAXはエンジン火災の危険性の問題で一時的に運行停止になりましたか? YES/NOで答えてください"
      ],
      "metadata": {
        "id": "GjHLKeO2kuib"
      }
    },
    {
      "cell_type": "markdown",
      "source": [
        "次の質問と回答のペアは正しいですか? YES/NOで答えてください。理由もお願いします。\n",
        "\n",
        "質問: ボーイング737MAXはどのような問題で一時的に運行停止になりましたか？\n",
        "回答: MCASシステムの不具合による墜落事故"
      ],
      "metadata": {
        "id": "SUeh8sU2kzbI"
      }
    },
    {
      "cell_type": "markdown",
      "source": [
        "次の質問と回答のペアが正しくなるよう、新しい質問を作ってください。\n",
        "\n",
        "質問: ボーイング737MAXはどのような問題で永久に運行停止になりましたか？\n",
        "回答: MCASシステムの不具合による墜落事故"
      ],
      "metadata": {
        "id": "3-baMyPuk4aD"
      }
    },
    {
      "cell_type": "markdown",
      "source": [
        "次の質問と回答のペアに対して、クイズとして適切な導入文を付与してください。導入文には、質問の内容を含みません。導入文には、解答の内容を含みません。 5つ、作成してください。"
      ],
      "metadata": {
        "id": "On099Fgvk_5g"
      }
    }
  ]
}