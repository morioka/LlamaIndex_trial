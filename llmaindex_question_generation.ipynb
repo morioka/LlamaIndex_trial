{
  "nbformat": 4,
  "nbformat_minor": 0,
  "metadata": {
    "colab": {
      "provenance": [],
      "include_colab_link": true
    },
    "kernelspec": {
      "name": "python3",
      "display_name": "Python 3"
    },
    "language_info": {
      "name": "python"
    }
  },
  "cells": [
    {
      "cell_type": "markdown",
      "metadata": {
        "id": "view-in-github",
        "colab_type": "text"
      },
      "source": [
        "<a href=\"https://colab.research.google.com/github/morioka/LlamaIndex_trial/blob/main/llmaindex_question_generation.ipynb\" target=\"_parent\"><img src=\"https://colab.research.google.com/assets/colab-badge.svg\" alt=\"Open In Colab\"/></a>"
      ]
    },
    {
      "cell_type": "markdown",
      "source": [
        "# LlamaIndexを用いて、クイズ生成を考える\n",
        "\n",
        "OpenAI API (GPT-3, ChatGPT, GPT-4)に対して、適切なプロンプトを設定して、クイズを作成し、そのよさを検証することを試みてみます。\n",
        "\n",
        "ここでは OpenAI APIをそのまま用いるのではなく、LlamaIndex (旧GPT-index)というフレームワークを用います。参考にした記事は、次のとおり：\n",
        "- [ChatGPTで独自データを利用できるLlamaIndexはどんな仕組みで動いているのか？調べてみました | DevelopersIO](https://dev.classmethod.jp/articles/llamaindex-overview/)\n",
        "\n",
        "\n",
        "ある記事を選択し、記事中の特徴的な表現（固有表現）を正解として、その記事に基づいたクイズを生成することを目指します。また、クイズ問題文と正解の対応が適切か、クイズ問題文の難易度や面白さを評価させてみます。\n",
        "\n",
        "\n",
        "以降の流れは以下のとおり:\n",
        "- 記事本文を取得する\n",
        "- 解答候補を抽出する\n",
        "- 関連情報を得る\n",
        "- インデックスを作成する\n",
        "- 質問生成：四択問題\n",
        "- 検証: 質問＋各選択肢が成立するか\n",
        "- 導入文の生成\n",
        "- 検証: ハルシネーションのチェック\n",
        "- 検証: 導入文と質問・解答をペアにしてすわりがよいかを評価\n",
        "- 検証: クイズの難しさの評価\n",
        "- 検証: クイズとしての面白さの評価\n",
        "\n",
        "\n",
        "\n",
        "\n",
        "\n"
      ],
      "metadata": {
        "id": "5r0yvbaH6Gz5"
      }
    },
    {
      "cell_type": "code",
      "source": [
        "!pip install -qU pip wheel setuptools"
      ],
      "metadata": {
        "id": "3Pl6fidpYvZK"
      },
      "execution_count": null,
      "outputs": []
    },
    {
      "cell_type": "markdown",
      "source": [
        "## 対象の記事とその本文を取得する\n",
        "\n",
        "ここでは [kyodo_news](https://nordot.app/-/units/39166665832988672) に掲載されている記事の中から一つ選ぶことにします。"
      ],
      "metadata": {
        "id": "jQec7obT9bTY"
      }
    },
    {
      "cell_type": "code",
      "source": [
        "# この例では、この記事を使います。(すでに使えない可能性があります)\n",
        "\n",
        "article_urls=['https://nordot.app/1014472568104288256']  # 細野勇策が通算16アンダー首位　東建男子ゴルフ第2日 ｜ 共同通信 (2023/03/31)"
      ],
      "metadata": {
        "id": "3BlpLz-n9cAM"
      },
      "execution_count": null,
      "outputs": []
    },
    {
      "cell_type": "code",
      "source": [
        "# nordotから一覧する場合の例は、以下のとおりです。\n",
        "\n",
        "from urllib import request  # urllib.requestモジュールをインポート\n",
        "import json\n",
        "\n",
        "url = 'https://nordot.app/-/units/39166665832988672/list?offset=10&limit=10'\n",
        "user_agent = 'Mozilla/5.0 (Windows NT 6.1; Win64; x64)'   # User-Agentを設定しないと応答を返さない\n",
        "headers = {'User-Agent': user_agent}\n",
        "\n",
        "req = request.Request(url, headers=headers)\n",
        "with request.urlopen(req) as response:\n",
        "   content = json.loads(response.read().decode('utf8'))\n",
        "\n",
        "[\n",
        "    (p[\"title\"], p[\"published_at\"], f'https://nordot.app/{p[\"id\"]}') for p in content['posts']\n",
        "]\n"
      ],
      "metadata": {
        "id": "OoUdtxsAD0PX",
        "colab": {
          "base_uri": "https://localhost:8080/"
        },
        "outputId": "069e010e-416a-41e7-e2cc-e46aaf7e78ef"
      },
      "execution_count": null,
      "outputs": [
        {
          "output_type": "execute_result",
          "data": {
            "text/plain": [
              "[('ウクライナ問題、対話が唯一の道',\n",
              "  '2023-04-14T13:17:05+00:00',\n",
              "  'https://nordot.app/1019592487259455488'),\n",
              " ('藤波朱理「パリ五輪で優勝を」',\n",
              "  '2023-04-14T13:07:27+00:00',\n",
              "  'https://nordot.app/1019594318025064448'),\n",
              " ('3月の米小売売上高1.0％減',\n",
              "  '2023-04-14T13:06:41+00:00',\n",
              "  'https://nordot.app/1019595132064350208'),\n",
              " ('NY円、132円台後半',\n",
              "  '2023-04-14T12:58:47+00:00',\n",
              "  'https://nordot.app/1019593267427508224'),\n",
              " ('中9―2巨（14日）',\n",
              "  '2023-04-14T12:57:38+00:00',\n",
              "  'https://nordot.app/1019586499306536960'),\n",
              " ('木星と衛星の探査機打ち上げ',\n",
              "  '2023-04-14T12:54:19+00:00',\n",
              "  'https://nordot.app/1019591731507757056'),\n",
              " ('佐々木、首位でストリート決勝へ',\n",
              "  '2023-04-14T12:54:02+00:00',\n",
              "  'https://nordot.app/1019575124810694656'),\n",
              " ('中国外相、ロシアに武器提供せず',\n",
              "  '2023-04-14T12:53:46+00:00',\n",
              "  'https://nordot.app/1019591232043892736'),\n",
              " ('楽3―0ソ（14日）',\n",
              "  '2023-04-14T12:53:23+00:00',\n",
              "  'https://nordot.app/1019586268548218880'),\n",
              " ('D8―3神（14日）',\n",
              "  '2023-04-14T12:51:55+00:00',\n",
              "  'https://nordot.app/1019587209956376576')]"
            ]
          },
          "metadata": {},
          "execution_count": 3
        }
      ]
    },
    {
      "cell_type": "markdown",
      "source": [
        "## BeautifulSoupをつかって記事本文を抽出\n",
        "\n",
        "Webページそのままを、SimpleWebPageReaderで読み込んでインデックスを作成する場合、HTMLほかのタグも含めてインデックスしてしまいます。\n",
        "\n",
        "BeautifulSoupを使って記事本文をスクレイピングしてインデックスすると、きれいな情報を取得でき、それを使った結果もよさそうです。\n",
        "\n",
        "※記事によっては、写真に対するキャプションの削除や、カッコ表記の削除または展開などの前処理が必要になるかもしれません。"
      ],
      "metadata": {
        "id": "TRtGqiUz8t6M"
      }
    },
    {
      "cell_type": "code",
      "source": [
        "!pip install -qU bs4"
      ],
      "metadata": {
        "id": "qs4m8uCY7vTp",
        "outputId": "a3ef1aa1-f55b-47ef-b3e2-990e13e715d4",
        "colab": {
          "base_uri": "https://localhost:8080/"
        }
      },
      "execution_count": null,
      "outputs": [
        {
          "output_type": "stream",
          "name": "stdout",
          "text": [
            "  Preparing metadata (setup.py) ... \u001b[?25l\u001b[?25hdone\n",
            "  Building wheel for bs4 (setup.py) ... \u001b[?25l\u001b[?25hdone\n"
          ]
        }
      ]
    },
    {
      "cell_type": "code",
      "source": [
        "from urllib import request\n",
        "from bs4 import BeautifulSoup\n",
        "\n",
        "text = ''\n",
        "\n",
        "if False:  # 何度も取得することははばかられるので、取得済のものを用います。\n",
        "  url = article_urls[0]\n",
        "  response = request.urlopen(url)\n",
        "  soup = BeautifulSoup(response)\n",
        "  response.close()\n",
        "\n",
        "  text = soup.find('div', class_='main__articleBody').text.strip().replace('\\u3000', ' ')\n",
        "\n",
        "else:\n",
        "  # 何度も取得することははばかられるので、記事本文を用意します。\n",
        "  text = '第2日、12番でアプローチショットを放つ細野勇策。通算16アンダーで首位＝東建多度CC名古屋 東建ホームメイト・カップ第2日（31日・三重県東建多度CC名古屋＝7062ヤード、パー71）20歳でツアー未勝利の細野勇策が3位から11バーディー、1ボギーの61をマークし、通算16アンダー、126で首位に立った。61は同コース開催での大会最少スコアを1打更新。4打差で前日首位の今平周吾が続いた。通算10アンダーの3位に64で回った田中裕基とマイケル・ヘンドリー（ニュージーランド）がつけ、さらに1打差で石川遼らが並んだ。金谷拓実は首位から71と伸ばせず7アンダーの12位に後退。昨年優勝の香妻陣一朗は3アンダーの50位。2アンダーまでの79人が決勝ラウンドに進んだ。'\n",
        "\n",
        "text  "
      ],
      "metadata": {
        "id": "WRuCNerG7muH",
        "colab": {
          "base_uri": "https://localhost:8080/",
          "height": 90
        },
        "outputId": "25561b7e-4cd8-488a-9769-9223231828e5"
      },
      "execution_count": null,
      "outputs": [
        {
          "output_type": "execute_result",
          "data": {
            "text/plain": [
              "'第2日、12番でアプローチショットを放つ細野勇策。通算16アンダーで首位＝東建多度CC名古屋 東建ホームメイト・カップ第2日（31日・三重県東建多度CC名古屋＝7062ヤード、パー71）20歳でツアー未勝利の細野勇策が3位から11バーディー、1ボギーの61をマークし、通算16アンダー、126で首位に立った。61は同コース開催での大会最少スコアを1打更新。4打差で前日首位の今平周吾が続いた。通算10アンダーの3位に64で回った田中裕基とマイケル・ヘンドリー（ニュージーランド）がつけ、さらに1打差で石川遼らが並んだ。金谷拓実は首位から71と伸ばせず7アンダーの12位に後退。昨年優勝の香妻陣一朗は3アンダーの50位。2アンダーまでの79人が決勝ラウンドに進んだ。'"
            ],
            "application/vnd.google.colaboratory.intrinsic+json": {
              "type": "string"
            }
          },
          "metadata": {},
          "execution_count": 5
        }
      ]
    },
    {
      "cell_type": "markdown",
      "source": [
        "## 解答候補を抽出する\n",
        "\n",
        "ここでの解答候補は、spacy/GiNZAを用いて固有表現抽出した結果とします。"
      ],
      "metadata": {
        "id": "fqHn13k3Wmr0"
      }
    },
    {
      "cell_type": "code",
      "source": [
        "!pip install -qU spacy ja_ginza"
      ],
      "metadata": {
        "id": "4yHU73PbWoyk",
        "outputId": "0bd25d6a-7349-4ce9-9e70-0a7e6997b796",
        "colab": {
          "base_uri": "https://localhost:8080/"
        }
      },
      "execution_count": null,
      "outputs": [
        {
          "output_type": "stream",
          "name": "stdout",
          "text": [
            "\u001b[2K     \u001b[90m━━━━━━━━━━━━━━━━━━━━━━━━━━━━━━━━━━━━━━━━\u001b[0m \u001b[32m6.6/6.6 MB\u001b[0m \u001b[31m39.8 MB/s\u001b[0m eta \u001b[36m0:00:00\u001b[0m\n",
            "\u001b[2K     \u001b[90m━━━━━━━━━━━━━━━━━━━━━━━━━━━━━━━━━━━━━━━━\u001b[0m \u001b[32m59.1/59.1 MB\u001b[0m \u001b[31m11.1 MB/s\u001b[0m eta \u001b[36m0:00:00\u001b[0m\n",
            "\u001b[2K     \u001b[90m━━━━━━━━━━━━━━━━━━━━━━━━━━━━━━━━━━━━━━━━\u001b[0m \u001b[32m6.5/6.5 MB\u001b[0m \u001b[31m53.3 MB/s\u001b[0m eta \u001b[36m0:00:00\u001b[0m\n",
            "\u001b[?25h  Preparing metadata (setup.py) ... \u001b[?25l\u001b[?25hdone\n",
            "\u001b[2K     \u001b[90m━━━━━━━━━━━━━━━━━━━━━━━━━━━━━━━━━━━━━━━━\u001b[0m \u001b[32m2.2/2.2 MB\u001b[0m \u001b[31m52.8 MB/s\u001b[0m eta \u001b[36m0:00:00\u001b[0m\n",
            "\u001b[?25h  Building wheel for sudachidict-core (setup.py) ... \u001b[?25l\u001b[?25hdone\n",
            "\u001b[31mERROR: pip's dependency resolver does not currently take into account all the packages that are installed. This behaviour is the source of the following dependency conflicts.\n",
            "en-core-web-sm 3.5.0 requires spacy<3.6.0,>=3.5.0, but you have spacy 3.4.4 which is incompatible.\u001b[0m\u001b[31m\n",
            "\u001b[0m"
          ]
        }
      ]
    },
    {
      "cell_type": "code",
      "source": [
        "import spacy\n",
        "\n",
        "nlp=spacy.load('ja_ginza')"
      ],
      "metadata": {
        "id": "1o7Gqj_DW3n4"
      },
      "execution_count": null,
      "outputs": []
    },
    {
      "cell_type": "code",
      "source": [
        "if False:\n",
        "  doc = nlp(text)\n",
        "  # 記事本文を対象にすると名字が頻出し、別人の関連情報を引っ張ってきやすくなるようです。\n",
        "else:\n",
        "  #summary_text = index.query(\"要約してください\").response.strip()\n",
        "  summary_text = '細野勇策が3位から11バーディー、1ボギーの61で通算16アンダー、126で首位に立ち、大会最少スコアを1打更新した。田中裕基とマイケル・ヘンドリーが3位につけ、石川遼らが1打差で並んだ。金谷拓実は7アンダーの12位に後退し、香妻陣一朗は3アンダーの50位であった。79人が2アンダーまでで決勝ラウンドに進んだ。'\n",
        "  doc = nlp(summary_text)\n",
        "\n",
        "doc"
      ],
      "metadata": {
        "colab": {
          "base_uri": "https://localhost:8080/"
        },
        "id": "nKU5wU9CWq1V",
        "outputId": "f5193fe7-f933-49ec-a9dc-0c77600eb28d"
      },
      "execution_count": null,
      "outputs": [
        {
          "output_type": "execute_result",
          "data": {
            "text/plain": [
              "細野勇策が3位から11バーディー、1ボギーの61で通算16アンダー、126で首位に立ち、大会最少スコアを1打更新した。田中裕基とマイケル・ヘンドリーが3位につけ、石川遼らが1打差で並んだ。金谷拓実は7アンダーの12位に後退し、香妻陣一朗は3アンダーの50位であった。79人が2アンダーまでで決勝ラウンドに進んだ。"
            ]
          },
          "metadata": {},
          "execution_count": 8
        }
      ]
    },
    {
      "cell_type": "code",
      "source": [
        "[ (e.text, e.label_) for e in doc.ents ]"
      ],
      "metadata": {
        "colab": {
          "base_uri": "https://localhost:8080/"
        },
        "id": "cifgNKOHXRiR",
        "outputId": "7415a3af-c398-4aea-a273-0f673bc79db0"
      },
      "execution_count": null,
      "outputs": [
        {
          "output_type": "execute_result",
          "data": {
            "text/plain": [
              "[('細野勇策', 'Person'),\n",
              " ('3位', 'Rank'),\n",
              " ('11バーディー', 'N_Organization'),\n",
              " ('1ボギー', 'Period_Day'),\n",
              " ('61', 'Numex_Other'),\n",
              " ('16アンダー', 'N_Product'),\n",
              " ('126', 'Numex_Other'),\n",
              " ('首位', 'Rank'),\n",
              " ('1打', 'N_Event'),\n",
              " ('田中裕基', 'Person'),\n",
              " ('マイケル・ヘンドリー', 'Person'),\n",
              " ('3位', 'Rank'),\n",
              " ('石川遼', 'Person'),\n",
              " ('1打', 'N_Event'),\n",
              " ('金谷拓実', 'Person'),\n",
              " ('7アンダー', 'N_Product'),\n",
              " ('12位', 'Rank'),\n",
              " ('香妻', 'Person'),\n",
              " ('3アンダー', 'N_Product'),\n",
              " ('50位', 'Rank'),\n",
              " ('79人', 'N_Person'),\n",
              " ('2アンダー', 'N_Product')]"
            ]
          },
          "metadata": {},
          "execution_count": 9
        }
      ]
    },
    {
      "cell_type": "markdown",
      "source": [
        "## 関連情報を得る\n",
        "\n",
        "解答候補やその他のキーワードに対して関連する情報を合わせて作問できると、良いものになると考えます。\n",
        "\n",
        "ここでは、ありがちですがひとまず Wikipedia 日本語版の記事サマリーを用います。\n",
        "\n",
        "ある解答候補について関連情報を得たら、そちらに基づいて質問を生成してもよい。\n",
        "\n",
        "- [PythonでWikipediaの情報を取得する | 分析ノート](https://analytics-note.xyz/programming/python-wikipedia/)\n",
        "- [wikipedia · PyPI](https://pypi.org/project/wikipedia/)"
      ],
      "metadata": {
        "id": "uW1APUjXbHWj"
      }
    },
    {
      "cell_type": "code",
      "source": [
        "!pip install -qU wikipedia"
      ],
      "metadata": {
        "id": "Mp-F--b_Y6FP",
        "colab": {
          "base_uri": "https://localhost:8080/"
        },
        "outputId": "58aed1b1-4e8d-45be-cee4-5882a030a358"
      },
      "execution_count": null,
      "outputs": [
        {
          "output_type": "stream",
          "name": "stdout",
          "text": [
            "  Preparing metadata (setup.py) ... \u001b[?25l\u001b[?25hdone\n",
            "  Building wheel for wikipedia (setup.py) ... \u001b[?25l\u001b[?25hdone\n"
          ]
        }
      ]
    },
    {
      "cell_type": "code",
      "source": [
        "import wikipedia\n",
        "wikipedia.set_lang(\"ja\")"
      ],
      "metadata": {
        "id": "tAVxbphOXitJ"
      },
      "execution_count": null,
      "outputs": []
    },
    {
      "cell_type": "code",
      "source": [
        "for e in doc.ents:\n",
        "  if e.label_ in ['Person', 'Company', 'Country']:\n",
        "    print( e.text,  wikipedia.search(e.text, results=3))"
      ],
      "metadata": {
        "colab": {
          "base_uri": "https://localhost:8080/"
        },
        "id": "gW3PeRiicWrq",
        "outputId": "edfe6ba8-c056-489d-8223-6d9a562c31a4"
      },
      "execution_count": null,
      "outputs": [
        {
          "output_type": "stream",
          "name": "stdout",
          "text": [
            "細野勇策 ['日本の写真家一覧', 'さすがの猿飛', '岐阜県立岐阜高等学校']\n",
            "田中裕基 ['Over The Top (バンド)', '田中裕子', '田中裕二 (お笑い芸人)']\n",
            "マイケル・ヘンドリー ['マイケル・ジャクソン', 'ジミ・ヘンドリックス', 'マイケル・ランドウ']\n",
            "石川遼 ['石川遼', '石川遼スペシャル RESPECT 〜ゴルフを愛する人々へ〜', 'ゴルフ日本シリーズ']\n",
            "金谷拓実 ['金谷拓実', 'SOMPOひまわり生命保険', 'インターナショナル・マネジメント・グループ']\n",
            "香妻 ['香妻琴乃', '香妻陣一朗', 'ゴルファー一覧']\n"
          ]
        }
      ]
    },
    {
      "cell_type": "markdown",
      "source": [
        "「さすがの猿飛」は細野不二彦。おそらく間違い。"
      ],
      "metadata": {
        "id": "hI88NVrVsICO"
      }
    },
    {
      "cell_type": "code",
      "source": [
        "# 解答候補でwikipediaを検索。解答候補が含まれるページsummaryを列挙\n",
        "# ページsummaryでは情報不足か。\n",
        "# しかし、ページcontentでは分量過多を懸念\n",
        "rel_urls = []\n",
        "for e in doc.ents:\n",
        "  if e.label_ in ['Person', 'Company', 'Country']:\n",
        "    wp_ents = wikipedia.search(e.text, results=3)\n",
        "    for wp in wp_ents:\n",
        "      try:\n",
        "        wp_page = wikipedia.page(wp)\n",
        "        if e.text in wp_page.summary:\n",
        "          rel_urls.append(wp_page.summary)\n",
        "      except:\n",
        "        pass\n",
        "\n",
        "rel_urls"
      ],
      "metadata": {
        "id": "yZLci4IjYEiO",
        "colab": {
          "base_uri": "https://localhost:8080/"
        },
        "outputId": "1b78b19f-3c6a-46c9-dfdb-ad65aa20dd7d"
      },
      "execution_count": null,
      "outputs": [
        {
          "output_type": "execute_result",
          "data": {
            "text/plain": [
              "['『石川遼スペシャル RESPECT 〜ゴルフを愛する人々へ〜』（いしかわりょうスペシャル リスペクト ゴルフをあいするひとびとへ）は、2010年4月4日から2012年3月31日まで、テレビ東京系列で放送されていたゴルフトーク番組。石川遼の冠番組。\\n\\n',\n",
              " '香妻 琴乃（こうづま ことの、1992年4月17日 - ）は、日本の女子プロゴルファー。鹿児島県鹿屋市出身。サマンサタバサ所属。',\n",
              " '香妻 陣一郎（こうづま じんいちろう、1994年7月7日 - ）は、日本のプロゴルファー。鹿児島県鹿屋市出身、身長165cm、日章学園高校卒業、国際スポーツ振興協会所属。妻はモデルの武井玲奈。姉は女子プロゴルファーの香妻琴乃。']"
            ]
          },
          "metadata": {},
          "execution_count": 13
        }
      ]
    },
    {
      "cell_type": "markdown",
      "source": [
        "適切な関連情報を得ることは重要。ja_ginza_electraの場合、姓だけ名だけでも拾い上げてしまい、その結果、無関係なwikipedia記事を関連あるものと誤って判断することがある。一概に強力なモデルであればよいとは言えない。\n",
        "\n",
        "上記を見るかぎりは、wikipedia summaryの品質は高くない。全文を取得して要約させたほうがよいかもしれない。\n",
        "\n",
        "wikidataからグラフ表現を引っ張ってくるのもよいかもしれない。"
      ],
      "metadata": {
        "id": "q7IEatY4ZuT5"
      }
    },
    {
      "cell_type": "markdown",
      "source": [
        "## デバッグログ設定"
      ],
      "metadata": {
        "id": "cW17bslezaxS"
      }
    },
    {
      "cell_type": "code",
      "source": [
        "# デバグログが必要な場合は、以下のlogging.basicConfig設定を有効にします。\n",
        "\n",
        "import logging\n",
        "import sys\n",
        "#logging.basicConfig(stream=sys.stdout, level=logging.DEBUG, force=True)"
      ],
      "metadata": {
        "id": "AuA37U_rzctr"
      },
      "execution_count": null,
      "outputs": []
    },
    {
      "cell_type": "markdown",
      "source": [
        "----"
      ],
      "metadata": {
        "id": "x4KbMy9_X4pr"
      }
    },
    {
      "cell_type": "markdown",
      "source": [
        "## ここからLlamaIndex (~ GPT API)を利用"
      ],
      "metadata": {
        "id": "BbVgIOQQX6la"
      }
    },
    {
      "cell_type": "markdown",
      "source": [
        "## インデックスを作成する\n",
        "\n",
        "- 前述のように、BeautifulSoupでスクレイピングした記事本文を使います\n"
      ],
      "metadata": {
        "id": "RPcGsI7c5-tf"
      }
    },
    {
      "cell_type": "code",
      "source": [
        "!pip install -qU llama-index wikipedia langchain html2text"
      ],
      "metadata": {
        "id": "OOgrHoo2UM6l",
        "outputId": "ec274e62-e50e-4e7d-a30f-2fa3c7ab05f4",
        "colab": {
          "base_uri": "https://localhost:8080/"
        }
      },
      "execution_count": null,
      "outputs": [
        {
          "output_type": "stream",
          "name": "stdout",
          "text": [
            "\u001b[?25l     \u001b[90m━━━━━━━━━━━━━━━━━━━━━━━━━━━━━━━━━━━━━━━━\u001b[0m \u001b[32m0.0/172.7 kB\u001b[0m \u001b[31m?\u001b[0m eta \u001b[36m-:--:--\u001b[0m\r\u001b[2K     \u001b[91m━━━━━━━━━━━━━━━━━━━━━━━━━━━━━━━━━━━━\u001b[0m\u001b[91m╸\u001b[0m\u001b[90m━━\u001b[0m \u001b[32m163.8/172.7 kB\u001b[0m \u001b[31m5.7 MB/s\u001b[0m eta \u001b[36m0:00:01\u001b[0m\r\u001b[2K     \u001b[90m━━━━━━━━━━━━━━━━━━━━━━━━━━━━━━━━━━━━━━━\u001b[0m \u001b[32m172.7/172.7 kB\u001b[0m \u001b[31m4.5 MB/s\u001b[0m eta \u001b[36m0:00:00\u001b[0m\n",
            "\u001b[?25h  Preparing metadata (setup.py) ... \u001b[?25l\u001b[?25hdone\n",
            "\u001b[2K     \u001b[90m━━━━━━━━━━━━━━━━━━━━━━━━━━━━━━━━━━━━━━\u001b[0m \u001b[32m511.7/511.7 kB\u001b[0m \u001b[31m18.5 MB/s\u001b[0m eta \u001b[36m0:00:00\u001b[0m\n",
            "\u001b[2K     \u001b[90m━━━━━━━━━━━━━━━━━━━━━━━━━━━━━━━━━━━━━━━━\u001b[0m \u001b[32m70.3/70.3 kB\u001b[0m \u001b[31m6.9 MB/s\u001b[0m eta \u001b[36m0:00:00\u001b[0m\n",
            "\u001b[2K     \u001b[90m━━━━━━━━━━━━━━━━━━━━━━━━━━━━━━━━━━━━━━━━\u001b[0m \u001b[32m1.7/1.7 MB\u001b[0m \u001b[31m50.4 MB/s\u001b[0m eta \u001b[36m0:00:00\u001b[0m\n",
            "\u001b[2K     \u001b[90m━━━━━━━━━━━━━━━━━━━━━━━━━━━━━━━━━━━━━━━━\u001b[0m \u001b[32m1.0/1.0 MB\u001b[0m \u001b[31m46.9 MB/s\u001b[0m eta \u001b[36m0:00:00\u001b[0m\n",
            "\u001b[2K     \u001b[90m━━━━━━━━━━━━━━━━━━━━━━━━━━━━━━━━━━━━━━━━\u001b[0m \u001b[32m90.0/90.0 kB\u001b[0m \u001b[31m9.3 MB/s\u001b[0m eta \u001b[36m0:00:00\u001b[0m\n",
            "\u001b[2K     \u001b[90m━━━━━━━━━━━━━━━━━━━━━━━━━━━━━━━━━━━━━━\u001b[0m \u001b[32m264.6/264.6 kB\u001b[0m \u001b[31m20.4 MB/s\u001b[0m eta \u001b[36m0:00:00\u001b[0m\n",
            "\u001b[2K     \u001b[90m━━━━━━━━━━━━━━━━━━━━━━━━━━━━━━━━━━━━━━\u001b[0m \u001b[32m158.8/158.8 kB\u001b[0m \u001b[31m16.2 MB/s\u001b[0m eta \u001b[36m0:00:00\u001b[0m\n",
            "\u001b[2K     \u001b[90m━━━━━━━━━━━━━━━━━━━━━━━━━━━━━━━━━━━━━━\u001b[0m \u001b[32m114.2/114.2 kB\u001b[0m \u001b[31m11.3 MB/s\u001b[0m eta \u001b[36m0:00:00\u001b[0m\n",
            "\u001b[2K     \u001b[90m━━━━━━━━━━━━━━━━━━━━━━━━━━━━━━━━━━━━━━━━\u001b[0m \u001b[32m49.1/49.1 kB\u001b[0m \u001b[31m4.8 MB/s\u001b[0m eta \u001b[36m0:00:00\u001b[0m\n",
            "\u001b[?25h  Building wheel for llama-index (setup.py) ... \u001b[?25l\u001b[?25hdone\n",
            "\u001b[33mWARNING: Running pip as the 'root' user can result in broken permissions and conflicting behaviour with the system package manager. It is recommended to use a virtual environment instead: https://pip.pypa.io/warnings/venv\u001b[0m\u001b[33m\n",
            "\u001b[0m"
          ]
        }
      ]
    },
    {
      "cell_type": "code",
      "execution_count": null,
      "metadata": {
        "id": "iT3VVbxLULB-"
      },
      "outputs": [],
      "source": [
        "import os\n",
        "os.environ[\"OPENAI_API_KEY\"] = 'YOUR_OPENAI_API_KEY'"
      ]
    },
    {
      "cell_type": "code",
      "source": [
        "from llama_index import GPTSimpleVectorIndex, StringIterableReader\n",
        "\n",
        "documents = StringIterableReader().load_data([text])\n",
        "index = GPTSimpleVectorIndex.from_documents(documents)"
      ],
      "metadata": {
        "id": "MVt8yQnK8dyz"
      },
      "execution_count": null,
      "outputs": []
    },
    {
      "cell_type": "markdown",
      "source": [
        "↑上記でLLMを指定しないと、GPT-4が使われるかもしれません。高単価"
      ],
      "metadata": {
        "id": "_2uLKIOod2q5"
      }
    },
    {
      "cell_type": "code",
      "source": [
        "index.query(\"<question_text>?\")"
      ],
      "metadata": {
        "colab": {
          "base_uri": "https://localhost:8080/"
        },
        "id": "7mGvhGZn_hr0",
        "outputId": "14e751c3-7d72-42a3-e800-0db0518fa7ba"
      },
      "execution_count": null,
      "outputs": [
        {
          "output_type": "execute_result",
          "data": {
            "text/plain": [
              "Response(response='\\n細野勇策は、第2日の試合で首位に立った。', source_nodes=[NodeWithScore(node=Node(text='第2日、12番でアプローチショットを放つ細野勇策。通算16アンダーで首位＝東建多度CC名古屋 東建ホームメイト・カップ第2日（31日・三重県東建多度CC名古屋＝7062ヤード、パー71）20歳でツアー未勝利の細野勇策が3位から11バーディー、1ボギーの61をマークし、通算16アンダー、126で首位に立った。61は同コース開催での大会最少スコアを1打更新。4打差で前日首位の今平周吾が続いた。通算10アンダーの3位に64で回った田中裕基とマイケル・ヘンドリー（ニュージーランド）がつけ、さらに1打差で石川遼らが並んだ。金谷拓実は首位から71と伸ばせず7アンダーの12位に後退。昨年優勝の香妻陣一朗は3アンダーの50位。2アンダーまでの79人が決勝ラウンドに進んだ。', doc_id='6b9ef732-3e07-45af-a9bd-37fbb0614fd9', embedding=None, doc_hash='e08cc6f12c10350e3c9bd25bcc18f9b7ff2b9d1a14acb1ea9e37f3ba6efb87fc', extra_info=None, node_info={'start': 0, 'end': 332}, relationships={<DocumentRelationship.SOURCE: '1'>: '232bfa27-8dc5-4076-9798-d228459b00e9'}), score=0.6848365464618824)], extra_info=None)"
            ]
          },
          "metadata": {},
          "execution_count": 26
        }
      ]
    },
    {
      "cell_type": "code",
      "source": [
        "index.query(\"次の問いに日本語で答えてください。単語で出力してください。\\n\\n誰が首位ですか?\").response.strip()"
      ],
      "metadata": {
        "colab": {
          "base_uri": "https://localhost:8080/",
          "height": 36
        },
        "id": "ArcLpdEh7hhk",
        "outputId": "3141cb60-2139-4f25-b8f5-02c0d1abcaed"
      },
      "execution_count": null,
      "outputs": [
        {
          "output_type": "execute_result",
          "data": {
            "text/plain": [
              "'細野勇策'"
            ],
            "application/vnd.google.colaboratory.intrinsic+json": {
              "type": "string"
            }
          },
          "metadata": {},
          "execution_count": 27
        }
      ]
    },
    {
      "cell_type": "code",
      "source": [
        "index.query(\"要約してください\").response.strip()"
      ],
      "metadata": {
        "colab": {
          "base_uri": "https://localhost:8080/",
          "height": 54
        },
        "id": "wPFWsSu_9E57",
        "outputId": "1d1d907b-4012-49b8-b295-25b02305cb84"
      },
      "execution_count": null,
      "outputs": [
        {
          "output_type": "execute_result",
          "data": {
            "text/plain": [
              "'20歳の細野勇策が三重県東建多度CC名古屋で開催された東建ホームメイト・カップ第2日で11バーディー、1ボギーの61をマークし、通算16アンダー、126で首位に立ちました。今平周吾が4打差で2位、田中裕基とマイケル・ヘンドリー（ニュージーランド）が3位、石川遼らが1打差で4位となりました。金谷拓実は7アンダーの12位、昨年優勝の香妻陣一朗は3アンダーの50位でした。79人が2アンダー'"
            ],
            "application/vnd.google.colaboratory.intrinsic+json": {
              "type": "string"
            }
          },
          "metadata": {},
          "execution_count": 28
        }
      ]
    },
    {
      "cell_type": "markdown",
      "source": [
        "## 一度保存\n",
        "\n",
        "インデックスを作成するたびにOPENAI APIのトークンを消費するので、できるだけ保存して、それを使うのがよいでしょう。\n",
        "\n"
      ],
      "metadata": {
        "id": "8ImzQT-L0AxD"
      }
    },
    {
      "cell_type": "code",
      "source": [
        "index.save_to_disk('index.json')"
      ],
      "metadata": {
        "id": "30m7hXPwz8d1"
      },
      "execution_count": null,
      "outputs": []
    },
    {
      "cell_type": "markdown",
      "source": [
        "## 関連情報をインデックス"
      ],
      "metadata": {
        "id": "jqppW83GXyNp"
      }
    },
    {
      "cell_type": "code",
      "source": [
        "if False:\n",
        "  documents_rel = SimpleWebPageReader().load_data(rel_urls)\n",
        "  index_rel = GPTSimpleVectorIndex.from_documents(documents_rel)"
      ],
      "metadata": {
        "id": "lIpYq-MZaF2s"
      },
      "execution_count": null,
      "outputs": []
    },
    {
      "cell_type": "code",
      "source": [
        "from llama_index import StringIterableReader, GPTSimpleVectorIndex\n",
        "\n",
        "documents_rel = StringIterableReader().load_data(rel_urls)\n",
        "index_rel = GPTSimpleVectorIndex.from_documents(documents_rel)"
      ],
      "metadata": {
        "id": "GTahS5Z3uBgi"
      },
      "execution_count": null,
      "outputs": []
    },
    {
      "cell_type": "code",
      "source": [
        "index_rel.save_to_disk('index_rel.json')"
      ],
      "metadata": {
        "id": "_D6B6LrKamXv"
      },
      "execution_count": null,
      "outputs": []
    },
    {
      "cell_type": "markdown",
      "source": [
        "## 質問生成 四択問題\n",
        "\n",
        "記事をインデックスしたものに対して、クイズ生成を指示します。\n",
        "\n",
        "\n",
        "関連情報をインデックスしたものに対して、記事を提示してクイズ生成を指示するほうがよいかもしれません。"
      ],
      "metadata": {
        "id": "onxoc7rZcpw_"
      }
    },
    {
      "cell_type": "code",
      "source": [
        "index.query(\"あなたは有能なクイズ作家です。細野勇作が正解になる四択クイズを作ってください。\").response.strip()  # 実は名前を間違い"
      ],
      "metadata": {
        "colab": {
          "base_uri": "https://localhost:8080/",
          "height": 54
        },
        "id": "2AoF-y7myW6X",
        "outputId": "6791f673-a043-4282-f92e-ab598451f542"
      },
      "execution_count": null,
      "outputs": [
        {
          "output_type": "execute_result",
          "data": {
            "text/plain": [
              "'Q. 細野勇策が第2日に放ったアプローチショットで、通算16アンダーで首位に立ったのはどこで開催された大会でしたか？\\n\\nA. \\nA. 東建多度CC名古屋\\nB. 東京都ゴルフクラブ\\nC. 東海ゴルフクラブ\\nD. 東京都ゴルフ倶楽部'"
            ],
            "application/vnd.google.colaboratory.intrinsic+json": {
              "type": "string"
            }
          },
          "metadata": {},
          "execution_count": 33
        }
      ]
    },
    {
      "cell_type": "code",
      "source": [
        "index.query(\"あなたは有能なクイズ作家です。細野勇策が正解になる四択クイズを作ってください。\").response.strip() "
      ],
      "metadata": {
        "id": "b1kEEKKsPgLC",
        "outputId": "46c7fca0-3ba8-4ab8-f654-35749859194b",
        "colab": {
          "base_uri": "https://localhost:8080/",
          "height": 36
        }
      },
      "execution_count": null,
      "outputs": [
        {
          "output_type": "execute_result",
          "data": {
            "text/plain": [
              "'Q. 細野勇策は、東建多度CC名古屋で開催された東建ホームメイト・カップ第2日において、何スコアで首位に立ったか？\\n\\nA. \\nA. 61\\nB. 64\\nC. 71\\nD. 126'"
            ],
            "application/vnd.google.colaboratory.intrinsic+json": {
              "type": "string"
            }
          },
          "metadata": {},
          "execution_count": 34
        }
      ]
    },
    {
      "cell_type": "code",
      "source": [
        "index.query(\"あなたは有能なクイズ作家です。細野勇策が正解になる四択クイズを作ってください。3つ作ってください\").response.strip()"
      ],
      "metadata": {
        "colab": {
          "base_uri": "https://localhost:8080/",
          "height": 54
        },
        "id": "4GqRlJpSajOm",
        "outputId": "dcd1def5-74cb-4550-ea7d-27f14189998e"
      },
      "execution_count": null,
      "outputs": [
        {
          "output_type": "execute_result",
          "data": {
            "text/plain": [
              "'1. 細野勇策は、東建多度CC名古屋で開催された東建ホームメイト・カップ第2日で何スコアをマークしましたか？\\nA. 59\\nB. 61\\nC. 63\\nD. 65\\n\\n2. 細野勇策は、東建多度CC名古屋で開催された東建ホームメイト・カップ第2日で何位になりましたか？\\nA. 1位\\nB. 2位\\nC. 3位\\nD. 4位\\n\\n3. 東建多度CC名古屋で開催された東建ホームメイト・カップ第2日で、細野勇'"
            ],
            "application/vnd.google.colaboratory.intrinsic+json": {
              "type": "string"
            }
          },
          "metadata": {},
          "execution_count": 35
        }
      ]
    },
    {
      "cell_type": "markdown",
      "source": [
        "生成内容の指定が不十分。細野勇作を正解とする質問を生成するよう指示したが、得られたものいずれも細野勇作についての質問であって、細野勇作が正解になる質問ではない。\n",
        "\n",
        "最後の指示では、出力が途中で切られている。大きめの出力長の指定が必要。"
      ],
      "metadata": {
        "id": "pT_x3Rd0QsOe"
      }
    },
    {
      "cell_type": "markdown",
      "source": [
        "## 関連記事を前提として質問生成\n",
        "\n",
        "関連記事を前提として = インデックスとして、\n",
        "それに対して注目記事を条件付けとして与えます。\n",
        "\n",
        "あるドメインについての知識があって、それを前提に作問することを考えると、こちらのほうが自然な流れかもしれません。"
      ],
      "metadata": {
        "id": "TOdrpXnqa6W0"
      }
    },
    {
      "cell_type": "code",
      "source": [
        "index_rel.query(\"\"\"あなたは有能なクイズ作家です。以下の記事に基づいて、細野勇作が正解になる四択クイズを作ってください。\n",
        "\n",
        "記事: 第2日、12番でアプローチショットを放つ細野勇策。通算16アンダーで首位＝東建多度CC名古屋 東建ホームメイト・カップ第2日（31日・三重県東建多度CC名古屋＝7062ヤード、パー71）20歳でツアー未勝利の細野勇策が3位から11バーディー、1ボギーの61をマークし、通算16アンダー、126で首位に立った。61は同コース開催での大会最少スコアを1打更新。4打差で前日首位の今平周吾が続いた。通算10アンダーの3位に64で回った田中裕基とマイケル・ヘンドリー（ニュージーランド）がつけ、さらに1打差で石川遼らが並んだ。金谷拓実は首位から71と伸ばせず7アンダーの12位に後退。昨年優勝の香妻陣一朗は3アンダーの50位。2アンダーまでの79人が決勝ラウンドに進んだ。\n",
        "\n",
        "\"\"\").response.strip()  # 実は名前を間違い"
      ],
      "metadata": {
        "colab": {
          "base_uri": "https://localhost:8080/",
          "height": 54
        },
        "id": "Nj5tygv0bDYT",
        "outputId": "721fac9f-6c7b-452f-a32b-a9a5f63959ab"
      },
      "execution_count": null,
      "outputs": [
        {
          "output_type": "execute_result",
          "data": {
            "text/plain": [
              "'四択クイズ: 細野勇策が第2日に放つアプローチショットで通算16アンダーをマークし、首位に立ったのはどこの大会でしたか？\\n\\nA. 東建多度CC名古屋\\nB. 東建ホームメイト・カップ\\nC. ニュージーランド\\nD. 鹿児島県鹿屋市'"
            ],
            "application/vnd.google.colaboratory.intrinsic+json": {
              "type": "string"
            }
          },
          "metadata": {},
          "execution_count": 37
        }
      ]
    },
    {
      "cell_type": "markdown",
      "source": [
        "ただし、この例では関連情報が活きたものではなさそう。"
      ],
      "metadata": {
        "id": "R2r4SxwQbo6c"
      }
    },
    {
      "cell_type": "markdown",
      "source": [
        "## 検証: 質問＋各選択肢が成立するか\n",
        "\n",
        "正例負例それぞれで成立不成立を問い直すことで、生成した質問の妥当性を測ることにします。\n",
        "\n",
        "判断の根拠を示させることも有効だろう。"
      ],
      "metadata": {
        "id": "0Xx_qGYocsHa"
      }
    },
    {
      "cell_type": "code",
      "source": [
        "query = \"\"\"あなたは有能なクイズ作家です。次の質問と回答のペアは適切ですか。YES/NOで答えてください。\n",
        "\n",
        "質問: 細野勇策が通算16アンダー首位となったのはどこで行われたゴルフ大会でしたか？\n",
        "回答: 東建ホームメイト・カップ\n",
        "\"\"\""
      ],
      "metadata": {
        "id": "-f1SOAGDeqZc"
      },
      "execution_count": null,
      "outputs": []
    },
    {
      "cell_type": "code",
      "source": [
        "index.query(query).response.strip()"
      ],
      "metadata": {
        "colab": {
          "base_uri": "https://localhost:8080/",
          "height": 36
        },
        "id": "SIJC6Fq_ef8M",
        "outputId": "18edc7be-dc45-48c9-f3aa-0eb6a449f151"
      },
      "execution_count": null,
      "outputs": [
        {
          "output_type": "execute_result",
          "data": {
            "text/plain": [
              "'Yes'"
            ],
            "application/vnd.google.colaboratory.intrinsic+json": {
              "type": "string"
            }
          },
          "metadata": {},
          "execution_count": 39
        }
      ]
    },
    {
      "cell_type": "code",
      "source": [
        "query_template = \"\"\"あなたは有能なクイズ作家です。次の質問と回答のペアは適切ですか。YES/NOで答えてください。\n",
        "\n",
        "\n",
        "質問: {question}\n",
        "回答: {answer}\n",
        "\"\"\""
      ],
      "metadata": {
        "id": "RiEG3x8EP2Ey"
      },
      "execution_count": null,
      "outputs": []
    },
    {
      "cell_type": "code",
      "source": [
        "question = \"第2日の大会で首位に立ったのは誰でしたか？\"\n",
        "answer = \"今平周吾\"\n",
        "#answer = \"細野勇策\"\n",
        "#answer = \"田中裕基\"\n",
        "#answer = \"マイケル・ヘンドリー\"\n",
        "\n",
        "query = query_template.format(question=question, answer=answer)\n",
        "index.query(query).response.strip()"
      ],
      "metadata": {
        "id": "ZGLv5WAGQIWa",
        "outputId": "78ca474e-9e23-4287-b91e-0c0e5e4e3dfe",
        "colab": {
          "base_uri": "https://localhost:8080/",
          "height": 36
        }
      },
      "execution_count": null,
      "outputs": [
        {
          "output_type": "execute_result",
          "data": {
            "text/plain": [
              "'No. The correct answer is 細野勇策.'"
            ],
            "application/vnd.google.colaboratory.intrinsic+json": {
              "type": "string"
            }
          },
          "metadata": {},
          "execution_count": 41
        }
      ]
    },
    {
      "cell_type": "code",
      "source": [
        "question = \"第2日の大会で首位に立ったのは誰でしたか？\"\n",
        "answer = \"今平周吾\"\n",
        "answer = \"細野勇策\"\n",
        "#answer = \"田中裕基\"\n",
        "#answer = \"マイケル・ヘンドリー\"\n",
        "\n",
        "query = query_template.format(question=question, answer=answer)\n",
        "index.query(query).response.strip()"
      ],
      "metadata": {
        "id": "1zlU74kTQZHv",
        "outputId": "48360e6b-2466-4921-c860-b5bf0ff7dba9",
        "colab": {
          "base_uri": "https://localhost:8080/",
          "height": 36
        }
      },
      "execution_count": null,
      "outputs": [
        {
          "output_type": "execute_result",
          "data": {
            "text/plain": [
              "'YES'"
            ],
            "application/vnd.google.colaboratory.intrinsic+json": {
              "type": "string"
            }
          },
          "metadata": {},
          "execution_count": 42
        }
      ]
    },
    {
      "cell_type": "code",
      "source": [
        "question = \"第2日の大会で首位に立ったのは誰でしたか？\"\n",
        "answer = \"今平周吾\"\n",
        "answer = \"細野勇策\"\n",
        "answer = \"田中裕基\"\n",
        "#answer = \"マイケル・ヘンドリー\"\n",
        "\n",
        "query = query_template.format(question=question, answer=answer)\n",
        "index.query(query).response.strip()"
      ],
      "metadata": {
        "id": "kV68elpqQZQZ",
        "outputId": "99fe4ed1-2c25-419f-a01c-43e846f225d7",
        "colab": {
          "base_uri": "https://localhost:8080/",
          "height": 36
        }
      },
      "execution_count": null,
      "outputs": [
        {
          "output_type": "execute_result",
          "data": {
            "text/plain": [
              "'No. 田中裕基は3位になっています。首位に立ったのは細野勇策です。'"
            ],
            "application/vnd.google.colaboratory.intrinsic+json": {
              "type": "string"
            }
          },
          "metadata": {},
          "execution_count": 43
        }
      ]
    },
    {
      "cell_type": "code",
      "source": [
        "question = \"第2日の大会で首位に立ったのは誰でしたか？\"\n",
        "answer = \"今平周吾\"\n",
        "answer = \"細野勇策\"\n",
        "answer = \"田中裕基\"\n",
        "answer = \"マイケル・ヘンドリー\"\n",
        "\n",
        "query = query_template.format(question=question, answer=answer)\n",
        "index.query(query).response.strip()"
      ],
      "metadata": {
        "id": "C0-OGDUxQiIK",
        "outputId": "11eb231e-f257-44a8-b992-64707e26b10f",
        "colab": {
          "base_uri": "https://localhost:8080/",
          "height": 36
        }
      },
      "execution_count": null,
      "outputs": [
        {
          "output_type": "execute_result",
          "data": {
            "text/plain": [
              "'No. 第2日の大会で首位に立ったのは細野勇策でした。'"
            ],
            "application/vnd.google.colaboratory.intrinsic+json": {
              "type": "string"
            }
          },
          "metadata": {},
          "execution_count": 44
        }
      ]
    },
    {
      "cell_type": "markdown",
      "source": [
        "## 導入文の生成\n",
        "\n",
        "いくつか生成してはよいものを選ぶのがよいだろう。"
      ],
      "metadata": {
        "id": "CSyOYWRjc39a"
      }
    },
    {
      "cell_type": "code",
      "source": [
        "query_template = \"\"\"あなたは有能なクイズ作家です。次の質問と回答のペアに対して、クイズとして適切な導入文を付与してください。導入文には、質問の内容を含みません。導入文は疑問文ではありません。導入文には、解答の内容を含みません。 5つ、作成してください。\n",
        "\n",
        "質問: {question}\n",
        "回答: {answer}\n",
        "\"\"\""
      ],
      "metadata": {
        "id": "kMF-1eGWfF3d"
      },
      "execution_count": null,
      "outputs": []
    },
    {
      "cell_type": "code",
      "source": [
        "question = \"細野勇策が通算16アンダー首位となったのはどこで行われたゴルフ大会でしたか？\"\n",
        "answer = \"東建ホームメイト・カップ\""
      ],
      "metadata": {
        "id": "wa4NvEJvqGoy"
      },
      "execution_count": null,
      "outputs": []
    },
    {
      "cell_type": "code",
      "source": [
        "query = query_template.format(question=question, answer=answer)\n",
        "\n",
        "query"
      ],
      "metadata": {
        "colab": {
          "base_uri": "https://localhost:8080/",
          "height": 54
        },
        "id": "wR2YeCuwpnzf",
        "outputId": "fae53fc8-8acc-4327-a4a1-471469973ef7"
      },
      "execution_count": null,
      "outputs": [
        {
          "output_type": "execute_result",
          "data": {
            "text/plain": [
              "'あなたは有能なクイズ作家です。次の質問と回答のペアに対して、クイズとして適切な導入文を付与してください。導入文には、質問の内容を含みません。導入文は疑問文ではありません。導入文には、解答の内容を含みません。 5つ、作成してください。\\n\\n質問: 細野勇策が通算16アンダー首位となったのはどこで行われたゴルフ大会でしたか？\\n回答: 東建ホームメイト・カップ\\n'"
            ],
            "application/vnd.google.colaboratory.intrinsic+json": {
              "type": "string"
            }
          },
          "metadata": {},
          "execution_count": 47
        }
      ]
    },
    {
      "cell_type": "code",
      "source": [
        "index.query(query).response.strip().replace('\\n','')"
      ],
      "metadata": {
        "colab": {
          "base_uri": "https://localhost:8080/",
          "height": 54
        },
        "id": "O1Y84jFpfYTG",
        "outputId": "37238be2-31ba-4419-96e2-ffe834384e84"
      },
      "execution_count": null,
      "outputs": [
        {
          "output_type": "execute_result",
          "data": {
            "text/plain": [
              "'1. 細野勇策が首位となったゴルフ大会はどこで行われましたか？2. 細野勇策が通算16アンダーで首位となったのはどこで行われたゴルフ大会でしょうか？3. 細野勇策が首位となったゴルフ大会の名前は何でしょうか？4. 細野勇策が首位となったゴルフ大会の場所はどこでしょうか？5. 細野勇策が通算16アンダーで首位となったゴルフ大会の名前を教えてください。'"
            ],
            "application/vnd.google.colaboratory.intrinsic+json": {
              "type": "string"
            }
          },
          "metadata": {},
          "execution_count": 48
        }
      ]
    },
    {
      "cell_type": "code",
      "source": [
        "index_rel.query(query).response.strip().replace('\\n','')"
      ],
      "metadata": {
        "colab": {
          "base_uri": "https://localhost:8080/",
          "height": 54
        },
        "id": "vBxk5YYvwerG",
        "outputId": "43a2d9c4-3470-47c4-e944-2f52146b8f81"
      },
      "execution_count": null,
      "outputs": [
        {
          "output_type": "execute_result",
          "data": {
            "text/plain": [
              "'1. 細野勇策がゴルフ大会で何を達成したのかご存知ですか？2. 東建ホームメイト・カップで細野勇策が何を達成したのでしょうか？3. 細野勇策がゴルフ大会で何を達成したか、ご存知ですか？4. 細野勇策がゴルフ大会で何を達成したのか、ご存知ですか？5. 東建ホームメイト・カップで細野勇策が何を達成したのか、ご存知ですか？'"
            ],
            "application/vnd.google.colaboratory.intrinsic+json": {
              "type": "string"
            }
          },
          "metadata": {},
          "execution_count": 49
        }
      ]
    },
    {
      "cell_type": "markdown",
      "source": [
        "# ハルシネーションのチェック\n",
        "\n",
        "本来のハルシネーションの定義とは異なるが、ここでは扱いやすくなるよう、「出力を構成する語句のうち、インデックスやプロンプトに登場しない語句」だとする。\n",
        "\n",
        "文全体の意味が前提知識と異なるか否かは、ここでは問題としない。そちらを問題とするならば、問題と解答と前提知識が整合するかの検証でよいだろう。\n"
      ],
      "metadata": {
        "id": "wOpAnNaDICKl"
      }
    },
    {
      "cell_type": "code",
      "source": [
        "question = \"細野勇策が通算16アンダー首位となったのはどこで行われたゴルフ大会でしたか？\"\n",
        "answer = \"東建ホームメイト・カップ\""
      ],
      "metadata": {
        "id": "qkvhjrzzKGhe"
      },
      "execution_count": null,
      "outputs": []
    },
    {
      "cell_type": "code",
      "source": [
        "index_words = set([e.text for e in nlp(text).ents])\n",
        "index_words"
      ],
      "metadata": {
        "colab": {
          "base_uri": "https://localhost:8080/"
        },
        "id": "hcuCBxu0KMSB",
        "outputId": "7d9d8b08-a979-4c87-b9e7-2b5495303a67"
      },
      "execution_count": null,
      "outputs": [
        {
          "output_type": "execute_result",
          "data": {
            "text/plain": [
              "{'10アンダー',\n",
              " '11バーディー',\n",
              " '126',\n",
              " '12位',\n",
              " '12番',\n",
              " '16アンダー',\n",
              " '1ボギー',\n",
              " '1打',\n",
              " '20歳',\n",
              " '2アンダー',\n",
              " '31日',\n",
              " '3アンダー',\n",
              " '3位',\n",
              " '4打',\n",
              " '50位',\n",
              " '61',\n",
              " '64',\n",
              " '7062ヤード',\n",
              " '71',\n",
              " '79人',\n",
              " '7アンダー',\n",
              " 'ニュージーランド',\n",
              " 'パー71）',\n",
              " 'マイケル・ヘンドリー',\n",
              " '三重県',\n",
              " '今平周吾',\n",
              " '優勝',\n",
              " '名古屋',\n",
              " '名古屋 東建ホーム',\n",
              " '多度',\n",
              " '東建多度CC',\n",
              " '田中裕基',\n",
              " '石川遼',\n",
              " '第2日',\n",
              " '細野',\n",
              " '細野勇策',\n",
              " '金谷拓実',\n",
              " '首位',\n",
              " '香妻'}"
            ]
          },
          "metadata": {},
          "execution_count": 22
        }
      ]
    },
    {
      "cell_type": "code",
      "source": [
        "question_words = set([e.text for e in nlp(question).ents])\n",
        "question_words"
      ],
      "metadata": {
        "colab": {
          "base_uri": "https://localhost:8080/"
        },
        "id": "RTy1UQnZJhe4",
        "outputId": "c8e373a1-55b3-4800-bbd1-2e838548daf3"
      },
      "execution_count": null,
      "outputs": [
        {
          "output_type": "execute_result",
          "data": {
            "text/plain": [
              "{'16アンダー', 'ゴルフ', '細野勇策', '首位'}"
            ]
          },
          "metadata": {},
          "execution_count": 25
        }
      ]
    },
    {
      "cell_type": "code",
      "source": [
        "hullcunation_words = question_words - index_words\n",
        "hullcunation_words"
      ],
      "metadata": {
        "colab": {
          "base_uri": "https://localhost:8080/"
        },
        "id": "UGMhjMrOKeGx",
        "outputId": "0468a9b4-fa76-42f2-dbb9-4be2c7fc0b7b"
      },
      "execution_count": null,
      "outputs": [
        {
          "output_type": "execute_result",
          "data": {
            "text/plain": [
              "{'ゴルフ'}"
            ]
          },
          "metadata": {},
          "execution_count": 27
        }
      ]
    },
    {
      "cell_type": "markdown",
      "source": [
        "この場合、「ゴルフ」は原文に登場しなくても、登場したほうがよい単語だろう"
      ],
      "metadata": {
        "id": "IF-mLi58Kxxk"
      }
    },
    {
      "cell_type": "code",
      "source": [
        "rel_words = set()\n",
        "for rel in rel_urls:\n",
        "  rel_words |= set([e.text for e in nlp(rel).ents])\n",
        "rel_words"
      ],
      "metadata": {
        "colab": {
          "base_uri": "https://localhost:8080/"
        },
        "id": "5b7EccLBLMoc",
        "outputId": "d4a3fa21-9219-41e6-9753-9e8c89e51fd8"
      },
      "execution_count": null,
      "outputs": [
        {
          "output_type": "execute_result",
          "data": {
            "text/plain": [
              "{'165cm',\n",
              " '1992年4月17日',\n",
              " '1994年7月7日',\n",
              " '2010年4月4日',\n",
              " '2012年3月31日',\n",
              " 'いしかわりょう',\n",
              " 'ひとびと',\n",
              " 'ゴルフ',\n",
              " 'サマンサタバサ',\n",
              " 'テレビ東京系列',\n",
              " 'プロゴルファー',\n",
              " 'モデル',\n",
              " '一郎',\n",
              " '国際スポーツ振興協会',\n",
              " '女子プロゴルファー',\n",
              " '日本',\n",
              " '武井玲奈',\n",
              " '石川遼',\n",
              " '石川遼スペシャル RESPECT',\n",
              " '陣',\n",
              " '香妻',\n",
              " '香妻 琴乃',\n",
              " '香妻琴乃',\n",
              " '鹿児島県鹿屋市'}"
            ]
          },
          "metadata": {},
          "execution_count": 39
        }
      ]
    },
    {
      "cell_type": "code",
      "source": [
        "hullcunation_words = question_words - (index_words | rel_words)\n",
        "hullcunation_words"
      ],
      "metadata": {
        "colab": {
          "base_uri": "https://localhost:8080/"
        },
        "id": "G6vAKxA6LsOZ",
        "outputId": "39ecc3e3-6215-4d7a-c755-44b11c1e8fc7"
      },
      "execution_count": null,
      "outputs": [
        {
          "output_type": "execute_result",
          "data": {
            "text/plain": [
              "set()"
            ]
          },
          "metadata": {},
          "execution_count": 40
        }
      ]
    },
    {
      "cell_type": "markdown",
      "source": [
        "関連情報まで含めて生成したとした場合、出力文でのみ出現する語句（固有表現）はない。"
      ],
      "metadata": {
        "id": "Fbx7o4VGL8_F"
      }
    },
    {
      "cell_type": "markdown",
      "source": [
        "## 導入文と質問・解答をペアにしてすわりがよいかを評価\n",
        "## クイズの難しさの評価\n",
        "## クイズとしての面白さの評価\n",
        "\n",
        "\n",
        "TBD\n",
        "\n",
        "クイズとしての面白さには複数の軸が考えられるだろう。"
      ],
      "metadata": {
        "id": "mQhdArW4BrkM"
      }
    },
    {
      "cell_type": "code",
      "source": [
        "query_template = \"\"\"あなたは有能なクイズ作家です。次の質問と回答のペアの難しさを1から5までの5段階で評価してください。簡単であれば1を、難しければ5を出力してください。\n",
        "\n",
        "\n",
        "質問: {question}\n",
        "回答: {answer}\n",
        "\"\"\""
      ],
      "metadata": {
        "id": "f94megYkQ-jb"
      },
      "execution_count": null,
      "outputs": []
    },
    {
      "cell_type": "code",
      "source": [
        "question = \"第2日の大会で首位に立ったのは誰でしたか？\"\n",
        "answer = \"今平周吾\"\n",
        "answer = \"細野勇策\"\n",
        "#answer = \"田中裕基\"\n",
        "#answer = \"マイケル・ヘンドリー\"\n",
        "\n",
        "query = query_template.format(question=question, answer=answer)\n",
        "index.query(query).response.strip()"
      ],
      "metadata": {
        "id": "waE60abrRBp2",
        "outputId": "cae7dd49-a0af-4759-cda3-45cf5ac77bd7",
        "colab": {
          "base_uri": "https://localhost:8080/",
          "height": 36
        }
      },
      "execution_count": null,
      "outputs": [
        {
          "output_type": "execute_result",
          "data": {
            "text/plain": [
              "'1'"
            ],
            "application/vnd.google.colaboratory.intrinsic+json": {
              "type": "string"
            }
          },
          "metadata": {},
          "execution_count": 51
        }
      ]
    },
    {
      "cell_type": "code",
      "source": [
        "query = \"\"\"あなたは有能なクイズ作家です。細野勇策を解答とする、難しさ5の四択クイズを作ってください。難しさは1から5までの5段階です。簡単であれば1を、難しければ5です。\n",
        "\"\"\"\n",
        "index.query(query).response.strip()"
      ],
      "metadata": {
        "id": "AYWtGYZkRZuE",
        "outputId": "2723a85d-6f8b-446c-bff8-373bafef5c0e",
        "colab": {
          "base_uri": "https://localhost:8080/",
          "height": 36
        }
      },
      "execution_count": null,
      "outputs": [
        {
          "output_type": "execute_result",
          "data": {
            "text/plain": [
              "'Q. 細野勇策は、東建多度CC名古屋で開催された東建ホームメイト・カップ第2日において、何スコアで首位に立ったか？\\n\\nA. \\nA. 61\\nB. 64\\nC. 71\\nD. 126'"
            ],
            "application/vnd.google.colaboratory.intrinsic+json": {
              "type": "string"
            }
          },
          "metadata": {},
          "execution_count": 52
        }
      ]
    },
    {
      "cell_type": "code",
      "source": [
        "query = \"\"\"あなたは有能なクイズ作家です。細野勇策を解答とする、難しさ1の四択クイズを作ってください。難しさは1から5までの5段階です。簡単であれば1を、難しければ5です。\n",
        "\"\"\"\n",
        "index.query(query).response.strip()"
      ],
      "metadata": {
        "id": "Zgxg8l1pR3G1",
        "outputId": "0a6183cc-662c-4c10-ef49-9fc38c355843",
        "colab": {
          "base_uri": "https://localhost:8080/",
          "height": 36
        }
      },
      "execution_count": null,
      "outputs": [
        {
          "output_type": "execute_result",
          "data": {
            "text/plain": [
              "'Q. 細野勇策は、東建多度CC名古屋で開催された東建ホームメイト・カップ第2日で何をマークしましたか？\\n\\nA. \\nA. 61\\nB. 64\\nC. 71\\nD. 126'"
            ],
            "application/vnd.google.colaboratory.intrinsic+json": {
              "type": "string"
            }
          },
          "metadata": {},
          "execution_count": 53
        }
      ]
    },
    {
      "cell_type": "code",
      "source": [
        "query = \"\"\"あなたは有能なクイズ作家です。細野勇策を解答とする、難しさ3の四択クイズを作ってください。難しさは1から5までの5段階です。簡単であれば1を、難しければ5です。\n",
        "\"\"\"\n",
        "index.query(query).response.strip()"
      ],
      "metadata": {
        "id": "kHA5mNkMR7LE",
        "outputId": "ebcba31a-a6a8-4e71-f24a-9528a3764e5b",
        "colab": {
          "base_uri": "https://localhost:8080/",
          "height": 36
        }
      },
      "execution_count": null,
      "outputs": [
        {
          "output_type": "execute_result",
          "data": {
            "text/plain": [
              "'Q. 細野勇策は、東建多度CC名古屋で開催された東建ホームメイト・カップ第2日において、何スコアで首位に立ったか？\\n\\nA. \\nA. 61\\nB. 64\\nC. 71\\nD. 126'"
            ],
            "application/vnd.google.colaboratory.intrinsic+json": {
              "type": "string"
            }
          },
          "metadata": {},
          "execution_count": 54
        }
      ]
    },
    {
      "cell_type": "markdown",
      "source": [
        "クイズの難しさについて、何か言えているわけではなさそう。いくつか例示が必要なのだろう。"
      ],
      "metadata": {
        "id": "irZe_hQgSCr5"
      }
    },
    {
      "cell_type": "markdown",
      "source": [
        "あとは、マルチホップが必要な質問を作れるか？その確認のためにマルチホップQAができるか。どちらもステップバイステップのCoT(Chain of Thoughts)で可能ではないか?"
      ],
      "metadata": {
        "id": "4EPdxck3SMnK"
      }
    },
    {
      "cell_type": "markdown",
      "source": [
        "以上"
      ],
      "metadata": {
        "id": "NgSUoLjPcCsH"
      }
    },
    {
      "cell_type": "markdown",
      "source": [
        "それらしいものを生成できるが、高品質かは別問題か。「壁打ちにはよい」とされるが、使いものにするには難易度が（人手をかける必要を含めて）高くなる印象。"
      ],
      "metadata": {
        "id": "Hbo1LkFRf1vk"
      }
    },
    {
      "cell_type": "code",
      "source": [],
      "metadata": {
        "id": "Q31tTzGSf3rJ"
      },
      "execution_count": null,
      "outputs": []
    }
  ]
}